{
 "cells": [
  {
   "cell_type": "markdown",
   "metadata": {},
   "source": [
    "### Create Numpy Arrays"
   ]
  },
  {
   "cell_type": "code",
   "execution_count": 1,
   "metadata": {
    "collapsed": true
   },
   "outputs": [],
   "source": [
    "import numpy as np"
   ]
  },
  {
   "cell_type": "code",
   "execution_count": null,
   "metadata": {
    "collapsed": true
   },
   "outputs": [],
   "source": [
    "data = [1, 2, 3, 4]\n",
    "arr = np.array(data)\n",
    "\n",
    "print(arr)\n",
    "print(arr.shape)\n",
    "print(arr.ndim)"
   ]
  },
  {
   "cell_type": "code",
   "execution_count": 3,
   "metadata": {},
   "outputs": [
    {
     "name": "stdout",
     "output_type": "stream",
     "text": [
      "[[1 2 3 4]\n",
      " [5 6 7 8]]\n",
      "(2, 4)\n",
      "2\n",
      "int64\n",
      "8\n"
     ]
    }
   ],
   "source": [
    "data = [[1, 2, 3, 4],\n",
    "        [5, 6, 7, 8]]\n",
    "\n",
    "arr = np.array(data)\n",
    "\n",
    "print(arr)\n",
    "print(arr.shape)\n",
    "print(arr.ndim)\n",
    "print(arr.dtype)\n",
    "print(arr.size)"
   ]
  },
  {
   "cell_type": "code",
   "execution_count": 16,
   "metadata": {},
   "outputs": [
    {
     "name": "stdout",
     "output_type": "stream",
     "text": [
      "[ 0.  0.  0.  0.  0.  0.  0.  0.  0.  0.]\n",
      "[[ 0.  0.  0.  0.]\n",
      " [ 0.  0.  0.  0.]]\n",
      "[ 1.  1.  1.  1.  1.  1.  1.  1.  1.  1.]\n",
      "[1 1 1]\n"
     ]
    }
   ],
   "source": [
    "print(np.zeros(10))\n",
    "print(np.zeros((2, 4)))\n",
    "\n",
    "print(np.ones(10))\n",
    "print(np.ones_like([1, 2, 3]))"
   ]
  },
  {
   "cell_type": "code",
   "execution_count": 13,
   "metadata": {},
   "outputs": [
    {
     "data": {
      "text/plain": [
       "array([[[  2.28758560e-316,   0.00000000e+000],\n",
       "        [  0.00000000e+000,   0.00000000e+000],\n",
       "        [  0.00000000e+000,   0.00000000e+000]],\n",
       "\n",
       "       [[  0.00000000e+000,   0.00000000e+000],\n",
       "        [  0.00000000e+000,   0.00000000e+000],\n",
       "        [  0.00000000e+000,   0.00000000e+000]]])"
      ]
     },
     "execution_count": 13,
     "metadata": {},
     "output_type": "execute_result"
    }
   ],
   "source": [
    "np.empty((2,3,2))"
   ]
  },
  {
   "cell_type": "code",
   "execution_count": 14,
   "metadata": {},
   "outputs": [
    {
     "data": {
      "text/plain": [
       "array([0, 1, 2, 3, 4, 5, 6, 7, 8, 9])"
      ]
     },
     "execution_count": 14,
     "metadata": {},
     "output_type": "execute_result"
    }
   ],
   "source": [
    "# just like range in python\n",
    "np.arange(10)"
   ]
  },
  {
   "cell_type": "code",
   "execution_count": 15,
   "metadata": {},
   "outputs": [
    {
     "name": "stdout",
     "output_type": "stream",
     "text": [
      "[[ 0  1  2  3]\n",
      " [ 4  5  6  7]\n",
      " [ 8  9 10 11]]\n",
      "[ 0  1  2  3  4  5  6  7  8  9 10 11]\n"
     ]
    }
   ],
   "source": [
    "arr = np.arange(12).reshape(3, 4)\n",
    "print(arr)\n",
    "print(arr.flatten())"
   ]
  },
  {
   "cell_type": "code",
   "execution_count": 5,
   "metadata": {},
   "outputs": [
    {
     "data": {
      "text/plain": [
       "array([  1.        ,   1.47368421,   1.94736842,   2.42105263,\n",
       "         2.89473684,   3.36842105,   3.84210526,   4.31578947,\n",
       "         4.78947368,   5.26315789,   5.73684211,   6.21052632,\n",
       "         6.68421053,   7.15789474,   7.63157895,   8.10526316,\n",
       "         8.57894737,   9.05263158,   9.52631579,  10.        ])"
      ]
     },
     "execution_count": 5,
     "metadata": {},
     "output_type": "execute_result"
    }
   ],
   "source": [
    "np.linspace(1, 10, 20) # start, end, num_points"
   ]
  },
  {
   "cell_type": "markdown",
   "metadata": {},
   "source": [
    "#### Array Merge"
   ]
  },
  {
   "cell_type": "code",
   "execution_count": 21,
   "metadata": {},
   "outputs": [
    {
     "name": "stdout",
     "output_type": "stream",
     "text": [
      "[0 1 2 3 4]\n",
      "[0 1 2 3 4]\n",
      "[[0 1 2 3 4]\n",
      " [0 1 2 3 4]]\n",
      "[0 1 2 3 4 0 1 2 3 4]\n"
     ]
    }
   ],
   "source": [
    "arr_1 = np.arange(5)\n",
    "arr_2 = np.arange(5)\n",
    "\n",
    "print(arr_1)\n",
    "print(arr_2)\n",
    "\n",
    "print(np.vstack((arr_1, arr_2)))\n",
    "print(np.hstack((arr_1, arr_2)))"
   ]
  },
  {
   "cell_type": "markdown",
   "metadata": {},
   "source": [
    "#### Array Split"
   ]
  },
  {
   "cell_type": "code",
   "execution_count": 30,
   "metadata": {},
   "outputs": [
    {
     "name": "stdout",
     "output_type": "stream",
     "text": [
      "[[ 0  1  2  3]\n",
      " [ 4  5  6  7]\n",
      " [ 8  9 10 11]]\n",
      "[[0 1]\n",
      " [4 5]\n",
      " [8 9]]\n",
      "[[ 2  3]\n",
      " [ 6  7]\n",
      " [10 11]]\n",
      "[[0 1 2 3]]\n",
      "[[4 5 6 7]]\n",
      "[[ 8  9 10 11]]\n"
     ]
    }
   ],
   "source": [
    "arr = np.arange(12).reshape(3, 4)\n",
    "print(arr)\n",
    "\n",
    "# vertical split\n",
    "split_1, split_2 = np.split(arr, 2, axis=1) # array, num_splits, axis\n",
    "print(split_1)\n",
    "print(split_2)\n",
    "\n",
    "# horizontal split\n",
    "split_1, split_2, split_3 = np.split(arr, 3, axis=0)\n",
    "print(split_1)\n",
    "print(split_2)\n",
    "print(split_3)\n"
   ]
  },
  {
   "cell_type": "markdown",
   "metadata": {},
   "source": [
    "### Datatype"
   ]
  },
  {
   "cell_type": "code",
   "execution_count": 18,
   "metadata": {},
   "outputs": [
    {
     "data": {
      "text/plain": [
       "array([1, 2, 3], dtype=int32)"
      ]
     },
     "execution_count": 18,
     "metadata": {},
     "output_type": "execute_result"
    }
   ],
   "source": [
    "arr = np.array([1.1, 2.2, 3.3])\n",
    "arr.astype(np.int32)"
   ]
  },
  {
   "cell_type": "markdown",
   "metadata": {},
   "source": [
    "### Computation"
   ]
  },
  {
   "cell_type": "code",
   "execution_count": 23,
   "metadata": {},
   "outputs": [
    {
     "name": "stdout",
     "output_type": "stream",
     "text": [
      "[1 4 9]\n",
      "[ 0.5  1.   1.5]\n",
      "[ 1.          1.41421356  1.73205081]\n",
      "[2 3]\n"
     ]
    }
   ],
   "source": [
    "arr_1 = np.array([1, 2, 3])\n",
    "arr_2 = np.array([1, 2, 3])\n",
    "\n",
    "print(arr_1 * arr_2)\n",
    "print(arr_1 / 2)\n",
    "print(arr_1 ** 0.5)\n",
    "\n",
    "print(arr_1[1:])"
   ]
  },
  {
   "cell_type": "code",
   "execution_count": 9,
   "metadata": {},
   "outputs": [
    {
     "name": "stdout",
     "output_type": "stream",
     "text": [
      "average: 2.0\n",
      "mean: 2.0\n",
      "dot: 14\n"
     ]
    }
   ],
   "source": [
    "arr_1 = np.array([1, 2, 3])\n",
    "arr_2 = np.array([1, 2, 3])\n",
    "\n",
    "print(\"average: {}\".format(np.average(arr_1)))\n",
    "print(\"mean: {}\".format(np.mean(arr_1)))\n",
    "print(\"dot: {}\".format(np.dot(arr_1, arr_2)))"
   ]
  },
  {
   "cell_type": "code",
   "execution_count": 12,
   "metadata": {},
   "outputs": [
    {
     "name": "stdout",
     "output_type": "stream",
     "text": [
      "[[ 0  1  2  3]\n",
      " [ 4  5  6  7]\n",
      " [ 8  9 10 11]]\n",
      "[[1 1 1]\n",
      " [1 1 1]\n",
      " [1 1 1]]\n",
      "[[4 4]\n",
      " [4 4]\n",
      " [4 4]\n",
      " [4 4]]\n"
     ]
    }
   ],
   "source": [
    "arr = np.arange(12).reshape(3, 4)\n",
    "print(arr)\n",
    "print(np.diff(arr)) # each col diff\n",
    "print(np.diff(arr.T))"
   ]
  },
  {
   "attachments": {
    "image.png": {
     "image/png": "[encoded data removed]"
    }
   },
   "cell_type": "markdown",
   "metadata": {},
   "source": [
    "![image.png](attachment:image.png)"
   ]
  },
  {
   "cell_type": "markdown",
   "metadata": {},
   "source": [
    "### Index"
   ]
  },
  {
   "cell_type": "code",
   "execution_count": 33,
   "metadata": {},
   "outputs": [
    {
     "name": "stdout",
     "output_type": "stream",
     "text": [
      "[7 8 9]\n",
      "5\n",
      "5\n",
      "[4 5 6]\n",
      "[[2 3]\n",
      " [5 6]]\n"
     ]
    }
   ],
   "source": [
    "arr_2d = [[1, 2, 3],\n",
    "          [4, 5, 6],\n",
    "          [7, 8, 9]]\n",
    "\n",
    "arr_2d = np.array(arr_2d)\n",
    "print(arr_2d[2])\n",
    "print(arr_2d[1, 1])\n",
    "print(arr_2d[1][1])\n",
    "\n",
    "print(arr_2d[1].copy())\n",
    "print(arr_2d[:2, 1:])"
   ]
  },
  {
   "cell_type": "markdown",
   "metadata": {},
   "source": [
    "### Mask / Filter"
   ]
  },
  {
   "cell_type": "code",
   "execution_count": 49,
   "metadata": {},
   "outputs": [
    {
     "name": "stdout",
     "output_type": "stream",
     "text": [
      "[False  True False]\n",
      "[[ 0.56854337  1.78260165]\n",
      " [-2.33506369 -1.19630752]\n",
      " [ 1.09453257  0.90387366]]\n",
      "[[-2.33506369 -1.19630752]]\n",
      "[[ 0.56854337  1.78260165]\n",
      " [ 0.          0.        ]\n",
      " [ 1.09453257  0.90387366]]\n"
     ]
    }
   ],
   "source": [
    "names = np.array(['Bob', 'Joe', 'Will'])\n",
    "\n",
    "print(names == 'Joe')\n",
    "\n",
    "data = np.random.randn(3, 2)\n",
    "print(data)\n",
    "print(data[names == 'Joe'])\n",
    "\n",
    "\n",
    "mask = (names == 'Will') | (names == 'Bob')\n",
    "data[mask]\n",
    "\n",
    "data[data < 0] = 0\n",
    "print(data)"
   ]
  },
  {
   "cell_type": "code",
   "execution_count": 54,
   "metadata": {},
   "outputs": [
    {
     "name": "stdout",
     "output_type": "stream",
     "text": [
      "[[ 0  1  2  3  4]\n",
      " [ 5  6  7  8  9]\n",
      " [10 11 12 13 14]]\n",
      "[[ 0  5 10]\n",
      " [ 1  6 11]\n",
      " [ 2  7 12]\n",
      " [ 3  8 13]\n",
      " [ 4  9 14]]\n",
      "[  2.   7.  12.]\n",
      "[ 5.  6.  7.  8.  9.]\n",
      "7.0\n"
     ]
    }
   ],
   "source": [
    "arr = np.arange(15).reshape(3, 5)\n",
    "print(arr)\n",
    "print(arr.T)\n",
    "print(arr.mean(axis=1))\n",
    "print(arr.mean(axis=0))\n",
    "print(arr.mean(axis=None))"
   ]
  },
  {
   "cell_type": "code",
   "execution_count": 55,
   "metadata": {},
   "outputs": [
    {
     "data": {
      "text/plain": [
       "array(['Bob', 'Joe', 'Will'], \n",
       "      dtype='<U4')"
      ]
     },
     "execution_count": 55,
     "metadata": {},
     "output_type": "execute_result"
    }
   ],
   "source": [
    "names = np.array(['Bob', 'Joe', 'Will', 'Bob', 'Bob'])\n",
    "np.unique(names)"
   ]
  },
  {
   "cell_type": "markdown",
   "metadata": {
    "collapsed": true
   },
   "source": [
    "### newaxis\n",
    "\n",
    "Simply put, the newaxis is used to increase the dimension of the existing array by one more dimension, when used once. Thus,\n",
    "\n",
    "1D array will become 2D array\n",
    "\n",
    "2D array will become 3D array\n",
    "\n",
    "3D array will become 4D array and so on.."
   ]
  },
  {
   "cell_type": "code",
   "execution_count": 4,
   "metadata": {},
   "outputs": [
    {
     "name": "stdout",
     "output_type": "stream",
     "text": [
      "[1 2 3 4 5]\n",
      "[[1]\n",
      " [2]\n",
      " [3]\n",
      " [4]\n",
      " [5]]\n"
     ]
    }
   ],
   "source": [
    "x1 = np.array([1, 2, 3, 4, 5])\n",
    "x2 = np.array([1, 2, 3])\n",
    "\n",
    "print(x1[:])\n",
    "print(x1[:, np.newaxis])\n"
   ]
  },
  {
   "cell_type": "markdown",
   "metadata": {
    "collapsed": true
   },
   "source": [
    "## Data Transformation"
   ]
  },
  {
   "cell_type": "code",
   "execution_count": null,
   "metadata": {
    "collapsed": true
   },
   "outputs": [],
   "source": []
  },
  {
   "cell_type": "code",
   "execution_count": null,
   "metadata": {
    "collapsed": true
   },
   "outputs": [],
   "source": []
  },
  {
   "cell_type": "code",
   "execution_count": null,
   "metadata": {
    "collapsed": true
   },
   "outputs": [],
   "source": []
  },
  {
   "cell_type": "code",
   "execution_count": null,
   "metadata": {
    "collapsed": true
   },
   "outputs": [],
   "source": []
  },
  {
   "cell_type": "code",
   "execution_count": null,
   "metadata": {
    "collapsed": true
   },
   "outputs": [],
   "source": []
  },
  {
   "cell_type": "code",
   "execution_count": null,
   "metadata": {
    "collapsed": true
   },
   "outputs": [],
   "source": []
  }
 ],
 "metadata": {
  "kernelspec": {
   "display_name": "Python 3",
   "language": "python",
   "name": "python3"
  },
  "language_info": {
   "codemirror_mode": {
    "name": "ipython",
    "version": 3
   },
   "file_extension": ".py",
   "mimetype": "text/x-python",
   "name": "python",
   "nbconvert_exporter": "python",
   "pygments_lexer": "ipython3",
   "version": "3.5.3"
  }
 },
 "nbformat": 4,
 "nbformat_minor": 2
}
