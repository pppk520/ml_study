{
 "cells": [
  {
   "cell_type": "markdown",
   "metadata": {},
   "source": [
    "## Coursera\n",
    "\n",
    "[Machine Learning](https://www.coursera.org/learn/machine-learning) (Andrew Ng)\n",
    "\n",
    "[Neural Networks and Deep Learning](https://www.coursera.org/learn/neural-networks-deep-learning/home/welcome) (deeplearning.ai)\n",
    "\n",
    "## Udacity\n",
    "\n",
    "[Intro to Artificial Intelligence](https://classroom.udacity.com/courses/cs271)\n",
    "\n",
    "[Deep Learning](https://classroom.udacity.com/courses/ud730)\n",
    "\n",
    "## Youtube\n",
    "\n",
    "[Siraj Raval AI Education](https://www.youtube.com/channel/UCWN3xxRkmTPmbKwht9FuE5A) [ML, Math]\n",
    "\n",
    "[台大 - 李宏毅](https://www.youtube.com/channel/UC2ggjtuuWvxrHHHiaDH1dlQ) (Deep Learning)\n",
    "\n",
    "[3Blue1Brown](https://www.youtube.com/channel/UCYO_jab_esuFRV4b17AJtAw) (Math Visualization) [**Awesome!**]\n",
    "\n",
    "[莫煩Python教學](https://www.youtube.com/channel/UCdyjiB5H8Pu7aDTNVXTTpcg) (ML, Alg)\n"
   ]
  },
  {
   "cell_type": "code",
   "execution_count": null,
   "metadata": {
    "collapsed": true
   },
   "outputs": [],
   "source": []
  }
 ],
 "metadata": {
  "kernelspec": {
   "display_name": "Python 3",
   "language": "python",
   "name": "python3"
  },
  "language_info": {
   "codemirror_mode": {
    "name": "ipython",
    "version": 3
   },
   "file_extension": ".py",
   "mimetype": "text/x-python",
   "name": "python",
   "nbconvert_exporter": "python",
   "pygments_lexer": "ipython3",
   "version": "3.5.3"
  }
 },
 "nbformat": 4,
 "nbformat_minor": 2
}
