{
 "cells": [
  {
   "cell_type": "markdown",
   "metadata": {},
   "source": [
    "### Reference\n",
    "\n",
    "https://github.com/aymericdamien/TensorFlow-Examples/blob/master/examples/3_NeuralNetworks/convolutional_network.py"
   ]
  },
  {
   "cell_type": "code",
   "execution_count": 1,
   "metadata": {
    "collapsed": true
   },
   "outputs": [],
   "source": [
    "from __future__ import print_function\n",
    "\n",
    "import tensorflow as tf"
   ]
  },
  {
   "cell_type": "markdown",
   "metadata": {},
   "source": [
    "### Input Data"
   ]
  },
  {
   "cell_type": "code",
   "execution_count": 2,
   "metadata": {},
   "outputs": [
    {
     "name": "stdout",
     "output_type": "stream",
     "text": [
      "Successfully downloaded train-images-idx3-ubyte.gz 9912422 bytes.\n",
      "Extracting /tmp/data/train-images-idx3-ubyte.gz\n",
      "Successfully downloaded train-labels-idx1-ubyte.gz 28881 bytes.\n",
      "Extracting /tmp/data/train-labels-idx1-ubyte.gz\n",
      "Successfully downloaded t10k-images-idx3-ubyte.gz 1648877 bytes.\n",
      "Extracting /tmp/data/t10k-images-idx3-ubyte.gz\n",
      "Successfully downloaded t10k-labels-idx1-ubyte.gz 4542 bytes.\n",
      "Extracting /tmp/data/t10k-labels-idx1-ubyte.gz\n"
     ]
    }
   ],
   "source": [
    "from tensorflow.examples.tutorials.mnist import input_data\n",
    "\n",
    "mnist = input_data.read_data_sets(\"/tmp/data/\", one_hot=True)"
   ]
  },
  {
   "cell_type": "markdown",
   "metadata": {},
   "source": [
    "### Parameters"
   ]
  },
  {
   "cell_type": "code",
   "execution_count": 3,
   "metadata": {
    "collapsed": true
   },
   "outputs": [],
   "source": [
    "learning_rate = 0.001\n",
    "training_iters = 200000\n",
    "batch_size = 128\n",
    "display_step = 10\n",
    "n_input = 784 # MNIST data input (img shape: 28*28)\n",
    "n_classes = 10 # MNIST total classes (0-9 digits)\n",
    "dropout = 0.75 # Dropout, probability to keep units"
   ]
  },
  {
   "cell_type": "markdown",
   "metadata": {},
   "source": [
    "### Wrappers"
   ]
  },
  {
   "cell_type": "code",
   "execution_count": 7,
   "metadata": {
    "collapsed": true
   },
   "outputs": [],
   "source": [
    "def conv2d(x, W, b, strides=1):\n",
    "    # Conv2D wrapper, with bias and relu activation\n",
    "    x = tf.nn.conv2d(x, W, strides=[1, strides, strides, 1], padding='SAME')\n",
    "    x = tf.nn.bias_add(x, b)\n",
    "    \n",
    "    return tf.nn.relu(x)\n",
    "\n",
    "def maxpool2d(x, k=2):\n",
    "    # MaxPool2D wrapper\n",
    "    return tf.nn.max_pool(x, ksize=[1, k, k, 1], strides=[1, k, k, 1],\n",
    "                          padding='SAME')\n",
    "\n",
    "def conv_net(x, weights, biases, dropout):\n",
    "    # Reshape input picture\n",
    "    x = tf.reshape(x, shape=[-1, 28, 28, 1])\n",
    "\n",
    "    # Convolution Layer\n",
    "    conv1 = conv2d(x, weights['wc1'], biases['bc1'])\n",
    "    # Max Pooling (down-sampling)\n",
    "    conv1 = maxpool2d(conv1, k=2)\n",
    "\n",
    "    # Convolution Layer\n",
    "    conv2 = conv2d(conv1, weights['wc2'], biases['bc2'])\n",
    "    # Max Pooling (down-sampling)\n",
    "    conv2 = maxpool2d(conv2, k=2)\n",
    "\n",
    "    # Fully connected layer\n",
    "    # Reshape conv2 output to fit fully connected layer input\n",
    "    fc1 = tf.reshape(conv2, [-1, weights['wd1'].get_shape().as_list()[0]])\n",
    "    fc1 = tf.add(tf.matmul(fc1, weights['wd1']), biases['bd1'])\n",
    "    fc1 = tf.nn.relu(fc1)\n",
    "    # Apply Dropout\n",
    "    fc1 = tf.nn.dropout(fc1, dropout)\n",
    "\n",
    "    # Output, class prediction\n",
    "    out = tf.add(tf.matmul(fc1, weights['out']), biases['out'])\n",
    "    \n",
    "    return out"
   ]
  },
  {
   "cell_type": "markdown",
   "metadata": {},
   "source": [
    "### Placeholders"
   ]
  },
  {
   "cell_type": "code",
   "execution_count": 4,
   "metadata": {
    "collapsed": true
   },
   "outputs": [],
   "source": [
    "x = tf.placeholder(tf.float32, [None, n_input])\n",
    "y = tf.placeholder(tf.float32, [None, n_classes])\n",
    "keep_prob = tf.placeholder(tf.float32) #dropout (keep probability)"
   ]
  },
  {
   "cell_type": "markdown",
   "metadata": {},
   "source": [
    "### Variables"
   ]
  },
  {
   "cell_type": "code",
   "execution_count": 5,
   "metadata": {
    "collapsed": true
   },
   "outputs": [],
   "source": [
    "weights = {\n",
    "    # 5x5 conv, 1 input, 32 outputs\n",
    "    'wc1': tf.Variable(tf.random_normal([5, 5, 1, 32])),\n",
    "    # 5x5 conv, 32 inputs, 64 outputs\n",
    "    'wc2': tf.Variable(tf.random_normal([5, 5, 32, 64])),\n",
    "    # fully connected, 7*7*64 inputs, 1024 outputs\n",
    "    'wd1': tf.Variable(tf.random_normal([7*7*64, 1024])),\n",
    "    # 1024 inputs, 10 outputs (class prediction)\n",
    "    'out': tf.Variable(tf.random_normal([1024, n_classes]))\n",
    "}\n",
    "\n",
    "biases = {\n",
    "    'bc1': tf.Variable(tf.random_normal([32])),\n",
    "    'bc2': tf.Variable(tf.random_normal([64])),\n",
    "    'bd1': tf.Variable(tf.random_normal([1024])),\n",
    "    'out': tf.Variable(tf.random_normal([n_classes]))\n",
    "}"
   ]
  },
  {
   "cell_type": "markdown",
   "metadata": {},
   "source": [
    "## Graph"
   ]
  },
  {
   "cell_type": "code",
   "execution_count": 8,
   "metadata": {},
   "outputs": [],
   "source": [
    "pred = conv_net(x, weights, biases, keep_prob)"
   ]
  },
  {
   "cell_type": "markdown",
   "metadata": {},
   "source": [
    "#### Loss & Optimizer"
   ]
  },
  {
   "cell_type": "code",
   "execution_count": 9,
   "metadata": {
    "collapsed": true
   },
   "outputs": [],
   "source": [
    "cost = tf.reduce_mean(tf.nn.softmax_cross_entropy_with_logits(logits=pred, labels=y))\n",
    "optimizer = tf.train.AdamOptimizer(learning_rate=learning_rate).minimize(cost)"
   ]
  },
  {
   "cell_type": "markdown",
   "metadata": {},
   "source": [
    "#### Evaluation Model"
   ]
  },
  {
   "cell_type": "code",
   "execution_count": 10,
   "metadata": {
    "collapsed": true
   },
   "outputs": [],
   "source": [
    "correct_pred = tf.equal(tf.argmax(pred, 1), tf.argmax(y, 1))\n",
    "accuracy = tf.reduce_mean(tf.cast(correct_pred, tf.float32))"
   ]
  },
  {
   "cell_type": "markdown",
   "metadata": {},
   "source": [
    "## Launch Graph"
   ]
  },
  {
   "cell_type": "code",
   "execution_count": 12,
   "metadata": {},
   "outputs": [
    {
     "name": "stdout",
     "output_type": "stream",
     "text": [
      "Iter 1280, Minibatch Loss= 35524.988281, Training Accuracy= 0.28125\n",
      "Iter 2560, Minibatch Loss= 12529.324219, Training Accuracy= 0.46875\n",
      "Iter 3840, Minibatch Loss= 9120.578125, Training Accuracy= 0.60156\n",
      "Iter 5120, Minibatch Loss= 5755.382324, Training Accuracy= 0.67969\n",
      "Iter 6400, Minibatch Loss= 2609.859863, Training Accuracy= 0.82812\n",
      "Iter 7680, Minibatch Loss= 4053.931641, Training Accuracy= 0.76562\n",
      "Iter 8960, Minibatch Loss= 2805.363281, Training Accuracy= 0.85156\n",
      "Iter 10240, Minibatch Loss= 3207.331055, Training Accuracy= 0.84375\n",
      "Iter 11520, Minibatch Loss= 1801.200439, Training Accuracy= 0.88281\n",
      "Iter 12800, Minibatch Loss= 2561.414307, Training Accuracy= 0.89062\n",
      "Iter 14080, Minibatch Loss= 1536.830933, Training Accuracy= 0.89062\n",
      "Iter 15360, Minibatch Loss= 2363.224609, Training Accuracy= 0.91406\n",
      "Iter 16640, Minibatch Loss= 1530.103516, Training Accuracy= 0.92188\n",
      "Iter 17920, Minibatch Loss= 1805.967896, Training Accuracy= 0.88281\n",
      "Iter 19200, Minibatch Loss= 2208.184326, Training Accuracy= 0.89844\n",
      "Iter 20480, Minibatch Loss= 1341.530762, Training Accuracy= 0.90625\n",
      "Iter 21760, Minibatch Loss= 1687.743286, Training Accuracy= 0.89844\n",
      "Iter 23040, Minibatch Loss= 1389.408691, Training Accuracy= 0.92188\n",
      "Iter 24320, Minibatch Loss= 1183.571655, Training Accuracy= 0.95312\n",
      "Iter 25600, Minibatch Loss= 611.135864, Training Accuracy= 0.94531\n",
      "Iter 26880, Minibatch Loss= 613.375732, Training Accuracy= 0.92188\n",
      "Iter 28160, Minibatch Loss= 1328.375977, Training Accuracy= 0.89062\n",
      "Iter 29440, Minibatch Loss= 1101.049683, Training Accuracy= 0.95312\n",
      "Iter 30720, Minibatch Loss= 1438.411011, Training Accuracy= 0.92188\n",
      "Iter 32000, Minibatch Loss= 1920.962646, Training Accuracy= 0.92969\n",
      "Iter 33280, Minibatch Loss= 627.012085, Training Accuracy= 0.95312\n",
      "Iter 34560, Minibatch Loss= 1454.751221, Training Accuracy= 0.90625\n",
      "Iter 35840, Minibatch Loss= 934.542480, Training Accuracy= 0.92969\n",
      "Iter 37120, Minibatch Loss= 818.762146, Training Accuracy= 0.93750\n",
      "Iter 38400, Minibatch Loss= 1382.562378, Training Accuracy= 0.92969\n",
      "Iter 39680, Minibatch Loss= 403.735901, Training Accuracy= 0.97656\n",
      "Iter 40960, Minibatch Loss= 941.157593, Training Accuracy= 0.94531\n",
      "Iter 42240, Minibatch Loss= 664.660461, Training Accuracy= 0.96094\n",
      "Iter 43520, Minibatch Loss= 1044.238525, Training Accuracy= 0.91406\n",
      "Iter 44800, Minibatch Loss= 470.167908, Training Accuracy= 0.95312\n",
      "Iter 46080, Minibatch Loss= 272.068298, Training Accuracy= 0.95312\n",
      "Iter 47360, Minibatch Loss= 53.785187, Training Accuracy= 0.97656\n",
      "Iter 48640, Minibatch Loss= 461.641602, Training Accuracy= 0.95312\n",
      "Iter 49920, Minibatch Loss= 1196.007202, Training Accuracy= 0.96094\n",
      "Iter 51200, Minibatch Loss= 1282.686768, Training Accuracy= 0.92969\n",
      "Iter 52480, Minibatch Loss= 327.642822, Training Accuracy= 0.97656\n",
      "Iter 53760, Minibatch Loss= 485.452484, Training Accuracy= 0.96875\n",
      "Iter 55040, Minibatch Loss= 962.679199, Training Accuracy= 0.95312\n",
      "Iter 56320, Minibatch Loss= 1209.305420, Training Accuracy= 0.90625\n",
      "Iter 57600, Minibatch Loss= 497.094818, Training Accuracy= 0.96094\n",
      "Iter 58880, Minibatch Loss= 1468.651855, Training Accuracy= 0.91406\n",
      "Iter 60160, Minibatch Loss= 399.351501, Training Accuracy= 0.96094\n",
      "Iter 61440, Minibatch Loss= 659.495789, Training Accuracy= 0.93750\n",
      "Iter 62720, Minibatch Loss= 742.619263, Training Accuracy= 0.95312\n",
      "Iter 64000, Minibatch Loss= 819.332153, Training Accuracy= 0.93750\n",
      "Iter 65280, Minibatch Loss= 510.100983, Training Accuracy= 0.94531\n",
      "Iter 66560, Minibatch Loss= 256.710022, Training Accuracy= 0.96094\n",
      "Iter 67840, Minibatch Loss= 840.367004, Training Accuracy= 0.92969\n",
      "Iter 69120, Minibatch Loss= 820.594971, Training Accuracy= 0.96094\n",
      "Iter 70400, Minibatch Loss= 421.356079, Training Accuracy= 0.97656\n",
      "Iter 71680, Minibatch Loss= 1139.893677, Training Accuracy= 0.92969\n",
      "Iter 72960, Minibatch Loss= 357.439392, Training Accuracy= 0.97656\n",
      "Iter 74240, Minibatch Loss= 354.531311, Training Accuracy= 0.97656\n",
      "Iter 75520, Minibatch Loss= 538.247375, Training Accuracy= 0.93750\n",
      "Iter 76800, Minibatch Loss= 386.219452, Training Accuracy= 0.96094\n",
      "Iter 78080, Minibatch Loss= 1016.514038, Training Accuracy= 0.93750\n",
      "Iter 79360, Minibatch Loss= 524.092407, Training Accuracy= 0.95312\n",
      "Iter 80640, Minibatch Loss= 804.604675, Training Accuracy= 0.94531\n",
      "Iter 81920, Minibatch Loss= 595.900879, Training Accuracy= 0.94531\n",
      "Iter 83200, Minibatch Loss= 276.708679, Training Accuracy= 0.94531\n",
      "Iter 84480, Minibatch Loss= 154.636810, Training Accuracy= 0.98438\n",
      "Iter 85760, Minibatch Loss= 412.078400, Training Accuracy= 0.96094\n",
      "Iter 87040, Minibatch Loss= 449.630341, Training Accuracy= 0.95312\n",
      "Iter 88320, Minibatch Loss= 579.452515, Training Accuracy= 0.96094\n",
      "Iter 89600, Minibatch Loss= 36.902725, Training Accuracy= 0.98438\n",
      "Iter 90880, Minibatch Loss= 105.857147, Training Accuracy= 0.98438\n",
      "Iter 92160, Minibatch Loss= 870.699890, Training Accuracy= 0.93750\n",
      "Iter 93440, Minibatch Loss= 354.726593, Training Accuracy= 0.96875\n",
      "Iter 94720, Minibatch Loss= 578.089172, Training Accuracy= 0.92969\n",
      "Iter 96000, Minibatch Loss= 213.082291, Training Accuracy= 0.95312\n",
      "Iter 97280, Minibatch Loss= 742.917969, Training Accuracy= 0.92188\n",
      "Iter 98560, Minibatch Loss= 372.851746, Training Accuracy= 0.93750\n",
      "Iter 99840, Minibatch Loss= 616.964478, Training Accuracy= 0.95312\n",
      "Iter 101120, Minibatch Loss= 600.352722, Training Accuracy= 0.96094\n",
      "Iter 102400, Minibatch Loss= 327.002655, Training Accuracy= 0.98438\n",
      "Iter 103680, Minibatch Loss= 29.049866, Training Accuracy= 0.99219\n",
      "Iter 104960, Minibatch Loss= 326.235229, Training Accuracy= 0.95312\n",
      "Iter 106240, Minibatch Loss= 634.094666, Training Accuracy= 0.97656\n",
      "Iter 107520, Minibatch Loss= 208.357407, Training Accuracy= 0.98438\n",
      "Iter 108800, Minibatch Loss= 649.434753, Training Accuracy= 0.96875\n",
      "Iter 110080, Minibatch Loss= 189.760544, Training Accuracy= 0.97656\n",
      "Iter 111360, Minibatch Loss= 430.236511, Training Accuracy= 0.96875\n",
      "Iter 112640, Minibatch Loss= 682.960449, Training Accuracy= 0.94531\n",
      "Iter 113920, Minibatch Loss= 223.987610, Training Accuracy= 0.97656\n",
      "Iter 115200, Minibatch Loss= 462.544678, Training Accuracy= 0.96875\n",
      "Iter 116480, Minibatch Loss= 280.077087, Training Accuracy= 0.96094\n",
      "Iter 117760, Minibatch Loss= 301.744293, Training Accuracy= 0.95312\n",
      "Iter 119040, Minibatch Loss= 1004.122253, Training Accuracy= 0.92188\n",
      "Iter 120320, Minibatch Loss= 64.971809, Training Accuracy= 0.97656\n",
      "Iter 121600, Minibatch Loss= 489.101471, Training Accuracy= 0.92969\n",
      "Iter 122880, Minibatch Loss= 889.631531, Training Accuracy= 0.96094\n",
      "Iter 124160, Minibatch Loss= 0.000000, Training Accuracy= 1.00000\n",
      "Iter 125440, Minibatch Loss= 393.689575, Training Accuracy= 0.96094\n",
      "Iter 126720, Minibatch Loss= 40.167305, Training Accuracy= 0.98438\n",
      "Iter 128000, Minibatch Loss= 310.648468, Training Accuracy= 0.96094\n",
      "Iter 129280, Minibatch Loss= 58.822586, Training Accuracy= 0.99219\n",
      "Iter 130560, Minibatch Loss= 501.262024, Training Accuracy= 0.96875\n",
      "Iter 131840, Minibatch Loss= 212.818924, Training Accuracy= 0.96875\n",
      "Iter 133120, Minibatch Loss= 251.068237, Training Accuracy= 0.96875\n",
      "Iter 134400, Minibatch Loss= 404.133667, Training Accuracy= 0.96094\n",
      "Iter 135680, Minibatch Loss= 245.513458, Training Accuracy= 0.96875\n",
      "Iter 136960, Minibatch Loss= 599.511047, Training Accuracy= 0.93750\n",
      "Iter 138240, Minibatch Loss= 0.000000, Training Accuracy= 1.00000\n",
      "Iter 139520, Minibatch Loss= 110.760666, Training Accuracy= 0.96875\n",
      "Iter 140800, Minibatch Loss= 371.283997, Training Accuracy= 0.94531\n",
      "Iter 142080, Minibatch Loss= 243.968903, Training Accuracy= 0.96094\n",
      "Iter 143360, Minibatch Loss= 124.602081, Training Accuracy= 0.97656\n",
      "Iter 144640, Minibatch Loss= 70.918121, Training Accuracy= 0.98438\n",
      "Iter 145920, Minibatch Loss= 35.593155, Training Accuracy= 0.97656\n",
      "Iter 147200, Minibatch Loss= 62.548615, Training Accuracy= 0.97656\n",
      "Iter 148480, Minibatch Loss= 190.093048, Training Accuracy= 0.97656\n",
      "Iter 149760, Minibatch Loss= 91.271027, Training Accuracy= 0.99219\n",
      "Iter 151040, Minibatch Loss= 184.400589, Training Accuracy= 0.98438\n",
      "Iter 152320, Minibatch Loss= 95.857353, Training Accuracy= 0.97656\n",
      "Iter 153600, Minibatch Loss= 382.534332, Training Accuracy= 0.96094\n",
      "Iter 154880, Minibatch Loss= 107.847702, Training Accuracy= 0.99219\n",
      "Iter 156160, Minibatch Loss= 92.184662, Training Accuracy= 0.98438\n"
     ]
    },
    {
     "name": "stdout",
     "output_type": "stream",
     "text": [
      "Iter 157440, Minibatch Loss= 247.328873, Training Accuracy= 0.97656\n",
      "Iter 158720, Minibatch Loss= 198.223175, Training Accuracy= 0.98438\n",
      "Iter 160000, Minibatch Loss= 126.487556, Training Accuracy= 0.98438\n",
      "Iter 161280, Minibatch Loss= 267.801147, Training Accuracy= 0.97656\n",
      "Iter 162560, Minibatch Loss= 285.260254, Training Accuracy= 0.97656\n",
      "Iter 163840, Minibatch Loss= 429.530029, Training Accuracy= 0.93750\n",
      "Iter 165120, Minibatch Loss= 198.463074, Training Accuracy= 0.94531\n",
      "Iter 166400, Minibatch Loss= 68.788116, Training Accuracy= 0.96875\n",
      "Iter 167680, Minibatch Loss= 341.811005, Training Accuracy= 0.96875\n",
      "Iter 168960, Minibatch Loss= 159.972412, Training Accuracy= 0.98438\n",
      "Iter 170240, Minibatch Loss= 247.775864, Training Accuracy= 0.97656\n",
      "Iter 171520, Minibatch Loss= 152.252808, Training Accuracy= 0.98438\n",
      "Iter 172800, Minibatch Loss= 297.605896, Training Accuracy= 0.96094\n",
      "Iter 174080, Minibatch Loss= 148.425308, Training Accuracy= 0.96875\n",
      "Iter 175360, Minibatch Loss= 195.765930, Training Accuracy= 0.98438\n",
      "Iter 176640, Minibatch Loss= 23.973724, Training Accuracy= 0.99219\n",
      "Iter 177920, Minibatch Loss= 205.501984, Training Accuracy= 0.97656\n",
      "Iter 179200, Minibatch Loss= 51.043854, Training Accuracy= 0.98438\n",
      "Iter 180480, Minibatch Loss= 79.540756, Training Accuracy= 0.97656\n",
      "Iter 181760, Minibatch Loss= 360.423462, Training Accuracy= 0.96094\n",
      "Iter 183040, Minibatch Loss= 0.000000, Training Accuracy= 1.00000\n",
      "Iter 184320, Minibatch Loss= 99.365265, Training Accuracy= 0.97656\n",
      "Iter 185600, Minibatch Loss= 39.941589, Training Accuracy= 0.98438\n",
      "Iter 186880, Minibatch Loss= 135.001602, Training Accuracy= 0.98438\n",
      "Iter 188160, Minibatch Loss= 0.000000, Training Accuracy= 1.00000\n",
      "Iter 189440, Minibatch Loss= 0.000000, Training Accuracy= 1.00000\n",
      "Iter 190720, Minibatch Loss= 428.696167, Training Accuracy= 0.96875\n",
      "Iter 192000, Minibatch Loss= 237.336929, Training Accuracy= 0.97656\n",
      "Iter 193280, Minibatch Loss= 121.543152, Training Accuracy= 0.98438\n",
      "Iter 194560, Minibatch Loss= 10.401520, Training Accuracy= 0.99219\n",
      "Iter 195840, Minibatch Loss= 100.262161, Training Accuracy= 0.97656\n",
      "Iter 197120, Minibatch Loss= 228.455536, Training Accuracy= 0.96875\n",
      "Iter 198400, Minibatch Loss= 134.074142, Training Accuracy= 0.99219\n",
      "Iter 199680, Minibatch Loss= 19.562317, Training Accuracy= 0.99219\n",
      "Optimization Finished!\n",
      "Testing Accuracy: 0.992188\n"
     ]
    }
   ],
   "source": [
    "init = tf.global_variables_initializer()\n",
    "\n",
    "with tf.Session() as sess:\n",
    "    sess.run(init)\n",
    "    step = 1\n",
    "    \n",
    "    # Keep training until reach max iterations\n",
    "    while step * batch_size < training_iters:\n",
    "        batch_x, batch_y = mnist.train.next_batch(batch_size)\n",
    "        \n",
    "        # Run optimization op (backprop)\n",
    "        sess.run(optimizer, feed_dict={x: batch_x, y: batch_y,\n",
    "                                       keep_prob: dropout})\n",
    "        \n",
    "        if step % display_step == 0:\n",
    "            # Calculate batch loss and accuracy\n",
    "            loss, acc = sess.run([cost, accuracy], feed_dict={x: batch_x,\n",
    "                                                              y: batch_y,\n",
    "                                                              keep_prob: 1.})\n",
    "            \n",
    "            print(\"Iter \" + str(step*batch_size) + \", Minibatch Loss= \" + \\\n",
    "                  \"{:.6f}\".format(loss) + \", Training Accuracy= \" + \\\n",
    "                  \"{:.5f}\".format(acc))\n",
    "        step += 1\n",
    "\n",
    "    print(\"Optimization Finished!\")\n",
    "\n",
    "    # Calculate accuracy for 256 mnist test images\n",
    "    print(\"Testing Accuracy:\", \\\n",
    "        sess.run(accuracy, feed_dict={x: mnist.test.images[:256],\n",
    "                                      y: mnist.test.labels[:256],\n",
    "                                      keep_prob: 1.}))    "
   ]
  }
 ],
 "metadata": {
  "kernelspec": {
   "display_name": "Python 3",
   "language": "python",
   "name": "python3"
  },
  "language_info": {
   "codemirror_mode": {
    "name": "ipython",
    "version": 3
   },
   "file_extension": ".py",
   "mimetype": "text/x-python",
   "name": "python",
   "nbconvert_exporter": "python",
   "pygments_lexer": "ipython3",
   "version": "3.5.3"
  }
 },
 "nbformat": 4,
 "nbformat_minor": 2
}
