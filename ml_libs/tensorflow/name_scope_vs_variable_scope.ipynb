{
 "cells": [
  {
   "cell_type": "markdown",
   "metadata": {},
   "source": [
    "## Reference\n",
    "\n",
    "https://www.tensorflow.org/programmers_guide/variables"
   ]
  },
  {
   "cell_type": "code",
   "execution_count": 1,
   "metadata": {
    "collapsed": true
   },
   "outputs": [],
   "source": [
    "import tensorflow as tf"
   ]
  },
  {
   "cell_type": "markdown",
   "metadata": {},
   "source": [
    "## Creating a Variable"
   ]
  },
  {
   "cell_type": "markdown",
   "metadata": {},
   "source": [
    "> Unlike tf.Tensor objects, a **tf.Variable exists outside the context of a single session.run** call.\n",
    "\n",
    "> Internally, a tf.Variable stores a persistent tensor. Specific ops allow you to read and modify the values of this tensor. These modifications are visible across multiple tf.Sessions, so multiple workers can see the same values for a tf.Variable.\n",
    "\n",
    "> The best way to create a variable is to call the tf.get_variable function. tf.get_variable also allows you to reuse a previously created variable of the same name, making it easy to define models which reuse layers."
   ]
  },
  {
   "cell_type": "code",
   "execution_count": 40,
   "metadata": {},
   "outputs": [
    {
     "name": "stdout",
     "output_type": "stream",
     "text": [
      "<tf.Variable 'my_variable:0' shape=(1, 2, 3) dtype=float32_ref>\n",
      "<tf.Variable 'my_int_variable:0' shape=(1, 2, 3) dtype=int32_ref>\n"
     ]
    }
   ],
   "source": [
    "tf.reset_default_graph()\n",
    "\n",
    "my_variable = tf.get_variable(\"my_variable\", [1, 2, 3])\n",
    "print(my_variable)\n",
    "\n",
    "my_int_variable = tf.get_variable(\"my_int_variable\", \n",
    "                                  [1, 2, 3], \n",
    "                                  dtype=tf.int32, \n",
    "                                  initializer=tf.zeros_initializer)\n",
    "print(my_int_variable)"
   ]
  },
  {
   "cell_type": "markdown",
   "metadata": {},
   "source": [
    "## Initializing Variables\n",
    "\n",
    "tf.get_variable() can not only access existing variables but can also create new variables"
   ]
  },
  {
   "cell_type": "code",
   "execution_count": 44,
   "metadata": {},
   "outputs": [
    {
     "name": "stdout",
     "output_type": "stream",
     "text": [
      "[b'my_variable' b'my_int_variable']\n",
      "[]\n"
     ]
    }
   ],
   "source": [
    "with tf.Session() as sess:\n",
    "    print(sess.run(tf.report_uninitialized_variables()))\n",
    "    \n",
    "    # initialize\n",
    "    sess.run(tf.global_variables_initializer())\n",
    "    \n",
    "    print(sess.run(tf.report_uninitialized_variables()))    "
   ]
  },
  {
   "cell_type": "code",
   "execution_count": 76,
   "metadata": {},
   "outputs": [
    {
     "name": "stdout",
     "output_type": "stream",
     "text": [
      "vs/v:0\n",
      "vs/v:0\n",
      "[ 1.]\n"
     ]
    }
   ],
   "source": [
    "tf.reset_default_graph()\n",
    "\n",
    "const_1 = tf.constant_initializer(value=1)\n",
    "\n",
    "with tf.variable_scope(\"vs\"):\n",
    "    # use tf.Variable(10, [1], name=\"v\") doesn't work\n",
    "    v = tf.get_variable(name=\"v\", shape=[1], initializer=const_1)\n",
    "    print(v.name)\n",
    "\n",
    "sess = tf.Session()\n",
    "sess.run(tf.global_variables_initializer())\n",
    "    \n",
    "with tf.variable_scope(\"vs\", reuse=True):\n",
    "    v = tf.get_variable(\"v\")\n",
    "    print(v.name)       \n",
    "    print(v.eval(session=sess))\n",
    "\n",
    "sess.close()\n",
    "    "
   ]
  },
  {
   "cell_type": "markdown",
   "metadata": {},
   "source": [
    "## name_scope"
   ]
  },
  {
   "cell_type": "code",
   "execution_count": 24,
   "metadata": {},
   "outputs": [
    {
     "name": "stdout",
     "output_type": "stream",
     "text": [
      "v1:0\n",
      "ns/v2:0\n",
      "ns/add:0\n",
      "ns/v2_1:0\n",
      "ns/v2_2:0\n",
      "[ 1.]\n",
      "[ 2.]\n",
      "[ 3.]\n"
     ]
    }
   ],
   "source": [
    "tf.reset_default_graph()\n",
    "\n",
    "const_1 = tf.constant_initializer(value=1)\n",
    "\n",
    "with tf.name_scope('ns'):\n",
    "    # get_variable(name, shape=None, dtype=None, ...)\n",
    "    v1 = tf.get_variable(\"v1\", shape=[1], dtype=tf.float32, initializer=const_1) # get_variable ignores name_scope    \n",
    "    v2 = tf.Variable([2.0], name='v2') # tf.Variable(<initial-value>, name=<optional-name>)\n",
    "    v3 = v1 + v2      \n",
    "\n",
    "    v21 = tf.Variable([2.0], name='v2')  # tensorflow append _1 for this variable\n",
    "    v22 = tf.Variable([2.0], name='v2')  # tensorflow append _2 for this variable\n",
    "    \n",
    "print(v1.name)\n",
    "print(v2.name)\n",
    "print(v3.name)\n",
    "print(v21.name)\n",
    "print(v22.name)\n",
    "\n",
    "with tf.Session() as sess:\n",
    "    sess.run(tf.global_variables_initializer())\n",
    "    \n",
    "    print(sess.run(v1))\n",
    "    print(sess.run(v2))\n",
    "    print(sess.run(v3))    "
   ]
  },
  {
   "cell_type": "markdown",
   "metadata": {},
   "source": [
    "## variable_scope\n",
    "### scope.reuse_variables()"
   ]
  },
  {
   "cell_type": "code",
   "execution_count": 28,
   "metadata": {},
   "outputs": [
    {
     "name": "stdout",
     "output_type": "stream",
     "text": [
      "vs/v1:0\n",
      "ns/v2:0\n",
      "[ 1.]\n",
      "[ 1.]\n"
     ]
    }
   ],
   "source": [
    "tf.reset_default_graph()\n",
    "\n",
    "const_1 = tf.constant_initializer(value=1)\n",
    "\n",
    "with tf.variable_scope('vs') as scope:\n",
    "    # get_variable(name, shape=None, dtype=None, ...)\n",
    "    v1 = tf.get_variable(\"v1\", shape=[1], dtype=tf.float32, initializer=const_1) # get_variable ignores name_scope    \n",
    "    \n",
    "    scope.reuse_variables()\n",
    "    v1_reuse = tf.get_variable(\"v1\")\n",
    "    \n",
    "print(v1.name)\n",
    "print(v2.name)\n",
    "\n",
    "with tf.Session() as sess:\n",
    "    sess.run(tf.global_variables_initializer())\n",
    "    \n",
    "    print(sess.run(v1))\n",
    "    print(sess.run(v1_reuse))"
   ]
  },
  {
   "cell_type": "markdown",
   "metadata": {},
   "source": [
    "## Combination of Scopes\n",
    "\n",
    "Note that name scopes do not affect the names of variables."
   ]
  },
  {
   "cell_type": "code",
   "execution_count": 82,
   "metadata": {},
   "outputs": [
    {
     "name": "stdout",
     "output_type": "stream",
     "text": [
      "vs/nvv:0\n",
      "ns/vs/add:0\n",
      "vs/vnv:0\n",
      "vs/vs/vvv:0\n"
     ]
    }
   ],
   "source": [
    "tf.reset_default_graph()\n",
    "\n",
    "const_1 = tf.constant_initializer(value=1)\n",
    "\n",
    "with tf.name_scope('ns'):\n",
    "    with tf.variable_scope('vs'):\n",
    "        nvv = tf.get_variable(\"nvv\", shape=[1], dtype=tf.float32, initializer=const_1)\n",
    "        nv_add = nvv + 10\n",
    "\n",
    "        print(nvv.name)    # variable is affected by variable_scope only\n",
    "        print(nv_add.name) # op is affected by both variable_scope and name_scope\n",
    "\n",
    "\n",
    "with tf.variable_scope('vs'):\n",
    "    with tf.name_scope('ns'):\n",
    "        vnv = tf.get_variable(\"vnv\", shape=[1], dtype=tf.float32, initializer=const_1)\n",
    "\n",
    "        print(vnv.name) # variable is affected by variable_scope only\n",
    "\n",
    "with tf.variable_scope('vs'):\n",
    "    with tf.variable_scope('vs'):\n",
    "        vvv = tf.get_variable(\"vvv\", shape=[1], dtype=tf.float32, initializer=const_1)\n",
    "\n",
    "        print(vvv.name) # variable is affected by nested variable_scope\n",
    "        "
   ]
  },
  {
   "cell_type": "code",
   "execution_count": null,
   "metadata": {
    "collapsed": true
   },
   "outputs": [],
   "source": []
  }
 ],
 "metadata": {
  "kernelspec": {
   "display_name": "Python 3",
   "language": "python",
   "name": "python3"
  },
  "language_info": {
   "codemirror_mode": {
    "name": "ipython",
    "version": 3
   },
   "file_extension": ".py",
   "mimetype": "text/x-python",
   "name": "python",
   "nbconvert_exporter": "python",
   "pygments_lexer": "ipython3",
   "version": "3.5.3"
  }
 },
 "nbformat": 4,
 "nbformat_minor": 2
}
