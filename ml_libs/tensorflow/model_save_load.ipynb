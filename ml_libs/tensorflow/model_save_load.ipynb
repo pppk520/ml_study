{
 "cells": [
  {
   "cell_type": "markdown",
   "metadata": {},
   "source": [
    "## Reference\n",
    "\n",
    "https://stackoverflow.com/questions/33759623/tensorflow-how-to-save-restore-a-model"
   ]
  },
  {
   "cell_type": "code",
   "execution_count": 7,
   "metadata": {
    "collapsed": true
   },
   "outputs": [],
   "source": [
    "import tensorflow as tf\n",
    "import os"
   ]
  },
  {
   "cell_type": "markdown",
   "metadata": {},
   "source": [
    "## Save"
   ]
  },
  {
   "cell_type": "code",
   "execution_count": 4,
   "metadata": {
    "collapsed": true
   },
   "outputs": [],
   "source": [
    "model_filepath = '/tmp/my_tf_test_model'"
   ]
  },
  {
   "cell_type": "code",
   "execution_count": 11,
   "metadata": {},
   "outputs": [],
   "source": [
    "tf.reset_default_graph()\n",
    "\n",
    "w1 = tf.Variable(tf.truncated_normal(shape=[10]), name='w1')\n",
    "w2 = tf.Variable(tf.truncated_normal(shape=[20]), name='w2')\n",
    "\n",
    "tf.add_to_collection('vars', w1)\n",
    "tf.add_to_collection('vars', w2)\n",
    "\n",
    "saver = tf.train.Saver()\n",
    "\n",
    "with tf.Session() as sess:\n",
    "    sess.run(tf.global_variables_initializer())\n",
    "    saver.save(sess, model_filepath)   "
   ]
  },
  {
   "cell_type": "code",
   "execution_count": 14,
   "metadata": {},
   "outputs": [
    {
     "name": "stdout",
     "output_type": "stream",
     "text": [
      "-rw-r--r-- 1 root root  120 Aug 23 09:29 /tmp/my_tf_test_model.data-00000-of-00001\r\n",
      "-rw-r--r-- 1 root root  143 Aug 23 09:29 /tmp/my_tf_test_model.index\r\n",
      "-rw-r--r-- 1 root root 4817 Aug 23 09:29 /tmp/my_tf_test_model.meta\r\n"
     ]
    }
   ],
   "source": [
    "% ls -al /tmp/my*"
   ]
  },
  {
   "cell_type": "markdown",
   "metadata": {},
   "source": [
    "## Load"
   ]
  },
  {
   "cell_type": "code",
   "execution_count": 12,
   "metadata": {},
   "outputs": [
    {
     "name": "stdout",
     "output_type": "stream",
     "text": [
      "INFO:tensorflow:Restoring parameters from /tmp/my_tf_test_model\n",
      "[ 0.31402904 -1.04121733 -0.52605677  0.46205521  0.0268872   0.02340462\n",
      " -0.02208029 -0.5542022  -0.06267081  1.34570909]\n",
      "[-0.43298817  0.6884523   0.83246595  0.33445218  0.87439972 -0.24836938\n",
      " -1.03635859  0.43143162 -1.30897868  1.52576947  0.24701659 -0.99579126\n",
      " -0.77271855  0.33117574  1.62759531  0.03940138 -1.51966584  0.83043909\n",
      "  0.48009872 -1.52610421]\n",
      "[ 0.31402904 -1.04121733 -0.52605677  0.46205521  0.0268872   0.02340462\n",
      " -0.02208029 -0.5542022  -0.06267081  1.34570909]\n",
      "[-0.43298817  0.6884523   0.83246595  0.33445218  0.87439972 -0.24836938\n",
      " -1.03635859  0.43143162 -1.30897868  1.52576947  0.24701659 -0.99579126\n",
      " -0.77271855  0.33117574  1.62759531  0.03940138 -1.51966584  0.83043909\n",
      "  0.48009872 -1.52610421]\n"
     ]
    }
   ],
   "source": [
    "with tf.Session() as sess:\n",
    "    new_saver = tf.train.import_meta_graph('{}.meta'.format(model_filepath))\n",
    "    new_saver.restore(sess, tf.train.latest_checkpoint(os.path.dirname(model_filepath)))\n",
    "    \n",
    "    all_vars = tf.get_collection('vars')\n",
    "\n",
    "    for v in all_vars:\n",
    "        v_ = sess.run(v)\n",
    "        print(v_)"
   ]
  },
  {
   "cell_type": "code",
   "execution_count": null,
   "metadata": {
    "collapsed": true
   },
   "outputs": [],
   "source": []
  }
 ],
 "metadata": {
  "kernelspec": {
   "display_name": "Python 3",
   "language": "python",
   "name": "python3"
  },
  "language_info": {
   "codemirror_mode": {
    "name": "ipython",
    "version": 3
   },
   "file_extension": ".py",
   "mimetype": "text/x-python",
   "name": "python",
   "nbconvert_exporter": "python",
   "pygments_lexer": "ipython3",
   "version": "3.5.3"
  }
 },
 "nbformat": 4,
 "nbformat_minor": 2
}
