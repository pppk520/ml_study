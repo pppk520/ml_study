{
 "cells": [
  {
   "cell_type": "markdown",
   "metadata": {},
   "source": [
    "## Reference\n",
    "\n",
    "https://stackoverflow.com/questions/40994583/how-to-implement-tensorflows-next-batch-for-own-data"
   ]
  },
  {
   "cell_type": "code",
   "execution_count": 15,
   "metadata": {
    "collapsed": true
   },
   "outputs": [],
   "source": [
    "import tensorflow as tf\n",
    "import matplotlib.pyplot as plt\n",
    "import numpy as np\n",
    "\n",
    "%matplotlib inline"
   ]
  },
  {
   "cell_type": "code",
   "execution_count": 37,
   "metadata": {},
   "outputs": [],
   "source": [
    "(X_train, y_train), (X_test, y_test) = tf.contrib.keras.datasets.cifar10.load_data()\n",
    "\n",
    "X_train = (X_train/255.0).mean(axis=3).reshape(-1, 32*32)\n",
    "X_test = (X_test/255.0).mean(axis=3).reshape(-1, 32*32)"
   ]
  },
  {
   "cell_type": "code",
   "execution_count": 38,
   "metadata": {},
   "outputs": [
    {
     "name": "stdout",
     "output_type": "stream",
     "text": [
      "<class 'numpy.ndarray'>\n",
      "(50000, 1024)\n",
      "[[6]\n",
      " [9]\n",
      " [9]\n",
      " ..., \n",
      " [9]\n",
      " [1]\n",
      " [1]]\n",
      "(50000, 1)\n"
     ]
    }
   ],
   "source": [
    "print(type(X_train))\n",
    "print(X_train.shape)\n",
    "print(y_train)\n",
    "print(y_train.shape)"
   ]
  },
  {
   "cell_type": "markdown",
   "metadata": {},
   "source": [
    "### One-Hot Encoding"
   ]
  },
  {
   "cell_type": "code",
   "execution_count": 43,
   "metadata": {},
   "outputs": [],
   "source": [
    "y_train = np.eye(10)[y_train.reshape(-1)]\n",
    "y_test = np.eye(10)[y_test.reshape(-1)]"
   ]
  },
  {
   "cell_type": "code",
   "execution_count": 18,
   "metadata": {
    "collapsed": true
   },
   "outputs": [],
   "source": [
    "def conv_layer(input, size_in, size_out, name=\"conv\"):\n",
    "    with tf.name_scope(name):\n",
    "        with tf.variable_scope(\"vs\"):\n",
    "            w = tf.get_variable(initializer=tf.truncated_normal([5, 5, size_in, size_out], stddev=0.1), name=\"{}_W\".format(name))\n",
    "            b = tf.get_variable(initializer=tf.constant(0.1, shape=[size_out]), name=\"{}_B\".format(name))\n",
    "            conv = tf.nn.conv2d(input, w, strides=[1, 1, 1, 1], padding=\"SAME\")\n",
    "            act = tf.nn.relu(conv + b)\n",
    "\n",
    "            print(w.name)\n",
    "            \n",
    "            tf.summary.histogram(\"weights\", w)\n",
    "            tf.summary.histogram(\"biases\", b)\n",
    "            tf.summary.histogram(\"activations\", act)\n",
    "\n",
    "            return tf.nn.max_pool(act, ksize=[1, 2, 2, 1], strides=[1, 2, 2, 1], padding=\"SAME\")"
   ]
  },
  {
   "cell_type": "code",
   "execution_count": 19,
   "metadata": {
    "collapsed": true
   },
   "outputs": [],
   "source": [
    "def fc_layer(input, size_in, size_out, name=\"fc\"):\n",
    "    with tf.name_scope(name):\n",
    "        w = tf.Variable(tf.truncated_normal([size_in, size_out], stddev=0.1), name=\"W\")\n",
    "        b = tf.Variable(tf.constant(0.1, shape=[size_out]), name=\"B\")\n",
    "        act = tf.matmul(input, w) + b\n",
    "        \n",
    "        tf.summary.histogram(\"weights\", w)\n",
    "        tf.summary.histogram(\"biases\", b)\n",
    "        tf.summary.histogram(\"activations\", act)\n",
    "\n",
    "        return act"
   ]
  },
  {
   "cell_type": "code",
   "execution_count": 20,
   "metadata": {
    "collapsed": true
   },
   "outputs": [],
   "source": [
    "def dropout_layer(input, keep_prob, name=\"dropout\"):\n",
    "    with tf.name_scope(name):\n",
    "        return tf.nn.dropout(input, keep_prob)        "
   ]
  },
  {
   "cell_type": "code",
   "execution_count": 21,
   "metadata": {
    "collapsed": true
   },
   "outputs": [],
   "source": [
    "def to_image_tensor(weights):\n",
    "    ''' weights shape = (5, 5, 1, 32)\n",
    "    '''\n",
    "    weights = tf.reshape(weights, shape=(-1, 5, 5, 1))\n",
    "    \n",
    "    # scale weights to [0 255] and convert to uint8\n",
    "    x_min = tf.reduce_min(weights)\n",
    "    x_max = tf.reduce_max(weights)\n",
    "    weights_0_to_1 = (weights - x_min) / (x_max - x_min)\n",
    "\n",
    "    # Images that are represented using floating point values are expected to have values in the range [0,1). \n",
    "    # This op converts between data types, scaling the values appropriately before casting.\n",
    "    weights_0_to_255_uint8 = tf.image.convert_image_dtype(weights_0_to_1, dtype=tf.uint8)\n",
    "    \n",
    "    return weights_0_to_255_uint8"
   ]
  },
  {
   "cell_type": "code",
   "execution_count": 22,
   "metadata": {
    "collapsed": true
   },
   "outputs": [],
   "source": [
    "def show_images(ndarr):\n",
    "    ndarr = ndarr.squeeze()\n",
    "    \n",
    "    cols = 16\n",
    "    rows = ndarr.shape[0] // cols\n",
    "\n",
    "    print(\"cols = {}, rows = {}\".format(cols, rows))\n",
    "    fig, axes = plt.subplots(figsize=(30, 4), nrows=rows, ncols=cols, sharex=True, sharey=True)\n",
    "\n",
    "    axes = np.hstack(axes)\n",
    "    for sample, ax in zip(ndarr, axes):\n",
    "        ax.imshow(sample, cmap='Greys_r')\n",
    "        ax.xaxis.set_visible(False)\n",
    "        ax.yaxis.set_visible(False)    \n",
    "    \n",
    "    plt.show()"
   ]
  },
  {
   "cell_type": "code",
   "execution_count": 23,
   "metadata": {},
   "outputs": [],
   "source": [
    "import numpy as np \n",
    "\n",
    "class Dataset:\n",
    "    def __init__(self, X, y):\n",
    "        self._index_in_epoch = 0\n",
    "        self._epochs_completed = 0\n",
    "        self._X = X\n",
    "        self._y = y\n",
    "        self._num_examples = X.shape[0]\n",
    "\n",
    "    @property\n",
    "    def X(self):\n",
    "        return self._X\n",
    "\n",
    "    @property\n",
    "    def y(self):\n",
    "        return self._y\n",
    "    \n",
    "    def next_batch(self, batch_size, shuffle=True):\n",
    "        start = self._index_in_epoch\n",
    "        \n",
    "        if start == 0 and self._epochs_completed == 0:\n",
    "            idx = np.arange(0, self._num_examples)  # get all possible indexes\n",
    "            np.random.shuffle(idx)  # shuffle indexe\n",
    "            self._X = self.X[idx]  # get list of `num` random samples\n",
    "            self._y = self.y[idx]  # get list of `num` random samples\n",
    "\n",
    "        # go to the next batch\n",
    "        if start + batch_size > self._num_examples:\n",
    "            self._epochs_completed += 1\n",
    "            rest_num_examples = self._num_examples - start\n",
    "            X_rest_part = self.X[start : self._num_examples]\n",
    "            y_rest_part = self.y[start : self._num_examples]\n",
    "            \n",
    "            idx0 = np.arange(0, self._num_examples)  # get all possible indexes\n",
    "            np.random.shuffle(idx0)  # shuffle indexes\n",
    "            self._X = self.X[idx0]  # get list of `num` random samples\n",
    "            self._y = self.y[idx0]  # get list of `num` random samples\n",
    "\n",
    "            start = 0\n",
    "            self._index_in_epoch = batch_size - rest_num_examples #avoid the case where the #sample != integar times of batch_size\n",
    "            end =  self._index_in_epoch  \n",
    "            X_new_part =  self._X[start:end]  \n",
    "            y_new_part =  self._y[start:end]  \n",
    "            \n",
    "            return np.concatenate((X_rest_part, X_new_part), axis=0), np.concatenate((y_rest_part, y_new_part), axis=0)  \n",
    "        else:\n",
    "            self._index_in_epoch += batch_size\n",
    "            end = self._index_in_epoch\n",
    "            \n",
    "            return self._X[start:end], self._y[start:end]"
   ]
  },
  {
   "cell_type": "code",
   "execution_count": 24,
   "metadata": {},
   "outputs": [
    {
     "name": "stdout",
     "output_type": "stream",
     "text": [
      "[0 3 4]\n",
      "[0 3 4]\n",
      "[1 2 2]\n",
      "[1 2 2]\n",
      "[4 3 0]\n",
      "[4 3 0]\n"
     ]
    }
   ],
   "source": [
    "dataset = Dataset(np.arange(0, 5), np.arange(0, 5))\n",
    "for i in range(3):\n",
    "    X, y = dataset.next_batch(3)\n",
    "    print(X)    \n",
    "    print(y)        "
   ]
  },
  {
   "cell_type": "code",
   "execution_count": null,
   "metadata": {},
   "outputs": [
    {
     "name": "stdout",
     "output_type": "stream",
     "text": [
      "vs/conv1_W:0\n",
      "vs/conv2_W:0\n",
      "step 0, training accuracy 0.06\n",
      "(5, 5, 1, 32)\n",
      "(32, 5, 5, 1)\n",
      "cols = 16, rows = 2\n"
     ]
    },
    {
     "data": {
      "image/png": "[encoded data removed]",
      "text/plain": [
       "<matplotlib.figure.Figure at 0x7fea203b0898>"
      ]
     },
     "metadata": {},
     "output_type": "display_data"
    }
   ],
   "source": [
    "learning_rate = 1e-4\n",
    "\n",
    "tf.reset_default_graph()\n",
    "sess = tf.Session()\n",
    "\n",
    "x = tf.placeholder(tf.float32, shape=[None, 1024], name=\"x\")\n",
    "y = tf.placeholder(tf.float32, shape=[None, 10], name=\"labels\")\n",
    "keep_prob = tf.placeholder(tf.float32)\n",
    "\n",
    "x_image = tf.reshape(x, [-1, 32, 32, 1])\n",
    "\n",
    "tf.summary.image('input', x_image, 3)\n",
    "\n",
    "conv1 = conv_layer(x_image, 1, 32, name=\"conv1\")\n",
    "conv2 = conv_layer(conv1, 32, 64, name=\"conv2\")\n",
    "\n",
    "flattened = tf.reshape(conv2, [-1, 8 * 8 * 64])\n",
    "dropped = dropout_layer(flattened, keep_prob)\n",
    "logits = fc_layer(dropped, 8 * 8 * 64, 10, \"fc\")\n",
    "\n",
    "with tf.name_scope(\"xent\"):\n",
    "    xent = tf.reduce_mean(\n",
    "               tf.nn.softmax_cross_entropy_with_logits(\n",
    "               logits=logits, labels=y), name=\"xent\")\n",
    "    \n",
    "    tf.summary.scalar(\"xent\", xent)\n",
    "\n",
    "with tf.name_scope(\"train\"):\n",
    "    train_step = tf.train.AdamOptimizer(learning_rate).minimize(xent)\n",
    "\n",
    "with tf.name_scope(\"accuracy\"):\n",
    "    correct_prediction = tf.equal(tf.argmax(logits, 1), tf.argmax(y, 1))\n",
    "    accuracy = tf.reduce_mean(tf.cast(correct_prediction, tf.float32))\n",
    "    tf.summary.scalar(\"accuracy\", accuracy)    \n",
    "    \n",
    "summ = tf.summary.merge_all()\n",
    "    \n",
    "sess.run(tf.global_variables_initializer())\n",
    "writer = tf.summary.FileWriter('/tmp/tb/cifar10_cnn')\n",
    "writer.add_graph(sess.graph)\n",
    "\n",
    "dataset = Dataset(X_train, y_train)\n",
    "\n",
    "for i in range(20001):\n",
    "    batch = dataset.next_batch(100)\n",
    "    \n",
    "    if i % 1000 == 0:\n",
    "        [training_accuracy, s] = sess.run([accuracy, summ], feed_dict={x: batch[0], \n",
    "                                                                       y: batch[1],\n",
    "                                                                       keep_prob: 1.0})\n",
    "    \n",
    "        writer.add_summary(s, i)\n",
    "\n",
    "        print('step %d, training accuracy %g' % (i, training_accuracy))\n",
    "        \n",
    "        # show\n",
    "        with tf.variable_scope(\"vs\", reuse=True):\n",
    "            weights = tf.get_variable(\"conv1_W\")\n",
    "            bias = tf.get_variable(\"conv1_B\")\n",
    "            w = weights + bias\n",
    "            print(w.shape)\n",
    "            img_tensor = to_image_tensor(w)\n",
    "            print(img_tensor.shape)\n",
    "            data = img_tensor.eval(session=sess).squeeze()\n",
    "            show_images(data)            \n",
    "        \n",
    "    sess.run(train_step, feed_dict={x: batch[0], \n",
    "                                    y: batch[1],\n",
    "                                    keep_prob: 0.5})\n",
    "\n",
    "\n",
    "sess.close()"
   ]
  },
  {
   "cell_type": "code",
   "execution_count": null,
   "metadata": {
    "collapsed": true
   },
   "outputs": [],
   "source": []
  },
  {
   "cell_type": "code",
   "execution_count": null,
   "metadata": {
    "collapsed": true
   },
   "outputs": [],
   "source": []
  },
  {
   "cell_type": "code",
   "execution_count": null,
   "metadata": {
    "collapsed": true
   },
   "outputs": [],
   "source": []
  },
  {
   "cell_type": "code",
   "execution_count": null,
   "metadata": {
    "collapsed": true
   },
   "outputs": [],
   "source": []
  }
 ],
 "metadata": {
  "kernelspec": {
   "display_name": "Python 3",
   "language": "python",
   "name": "python3"
  },
  "language_info": {
   "codemirror_mode": {
    "name": "ipython",
    "version": 3
   },
   "file_extension": ".py",
   "mimetype": "text/x-python",
   "name": "python",
   "nbconvert_exporter": "python",
   "pygments_lexer": "ipython3",
   "version": "3.5.3"
  }
 },
 "nbformat": 4,
 "nbformat_minor": 2
}
