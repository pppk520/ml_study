{
 "cells": [
  {
   "cell_type": "code",
   "execution_count": 1,
   "metadata": {
    "collapsed": true
   },
   "outputs": [],
   "source": [
    "import tensorflow as tf\n",
    "import numpy as np\n",
    "import pickle\n",
    "import matplotlib.pyplot as plt\n",
    "\n",
    "%matplotlib inline"
   ]
  },
  {
   "cell_type": "code",
   "execution_count": 2,
   "metadata": {},
   "outputs": [
    {
     "name": "stdout",
     "output_type": "stream",
     "text": [
      "Successfully downloaded train-images-idx3-ubyte.gz 9912422 bytes.\n",
      "Extracting /tmp/train-images-idx3-ubyte.gz\n",
      "Successfully downloaded train-labels-idx1-ubyte.gz 28881 bytes.\n",
      "Extracting /tmp/train-labels-idx1-ubyte.gz\n",
      "Successfully downloaded t10k-images-idx3-ubyte.gz 1648877 bytes.\n",
      "Extracting /tmp/t10k-images-idx3-ubyte.gz\n",
      "Successfully downloaded t10k-labels-idx1-ubyte.gz 4542 bytes.\n",
      "Extracting /tmp/t10k-labels-idx1-ubyte.gz\n"
     ]
    }
   ],
   "source": [
    "from tensorflow.examples.tutorials.mnist import input_data\n",
    "mnist = input_data.read_data_sets('/tmp')"
   ]
  },
  {
   "cell_type": "code",
   "execution_count": 3,
   "metadata": {
    "collapsed": true
   },
   "outputs": [],
   "source": [
    "def get_inputs(real_size, noise_size):\n",
    "    \"\"\"\n",
    "    真实图像tensor与噪声图像tensor\n",
    "    \"\"\"\n",
    "    real_img = tf.placeholder(tf.float32, [None, real_size], name='real_img')\n",
    "    noise_img = tf.placeholder(tf.float32, [None, noise_size], name='noise_img')\n",
    "    \n",
    "    return real_img, noise_img"
   ]
  },
  {
   "cell_type": "code",
   "execution_count": null,
   "metadata": {
    "collapsed": true
   },
   "outputs": [],
   "source": [
    "def get_generator(noise_img, n_units, out_dim, reuse=False, alpha=0.01):\n",
    "    with tf.variable_scope(\"generator\", reuse=reuse):\n",
    "        hidden1 = tf.layers.dense(noise_img, n_units)\n",
    "        hidden1 = tf.maximum(alpha * hidden1, hidden1)\n",
    "        hidden1 = tf.layers.dropout(hidden1, rate=0.2)\n",
    "\n",
    "        # logits & outputs\n",
    "        logits = tf.layers.dense(hidden1, out_dim)\n",
    "        outputs = tf.tanh(logits)\n",
    "        \n",
    "        return logits, outputs"
   ]
  }
 ],
 "metadata": {
  "kernelspec": {
   "display_name": "Python 3",
   "language": "python",
   "name": "python3"
  },
  "language_info": {
   "codemirror_mode": {
    "name": "ipython",
    "version": 3
   },
   "file_extension": ".py",
   "mimetype": "text/x-python",
   "name": "python",
   "nbconvert_exporter": "python",
   "pygments_lexer": "ipython3",
   "version": "3.5.3"
  }
 },
 "nbformat": 4,
 "nbformat_minor": 2
}
