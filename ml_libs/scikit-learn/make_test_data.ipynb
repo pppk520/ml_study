{
 "cells": [
  {
   "cell_type": "markdown",
   "metadata": {},
   "source": [
    "### Reference\n",
    "\n",
    "https://chrisalbon.com/#Machine_Learning"
   ]
  },
  {
   "cell_type": "markdown",
   "metadata": {},
   "source": [
    "### Classification"
   ]
  },
  {
   "cell_type": "code",
   "execution_count": 1,
   "metadata": {},
   "outputs": [
    {
     "data": {
      "text/html": [
       "<div>\n",
       "<style>\n",
       "    .dataframe thead tr:only-child th {\n",
       "        text-align: right;\n",
       "    }\n",
       "\n",
       "    .dataframe thead th {\n",
       "        text-align: left;\n",
       "    }\n",
       "\n",
       "    .dataframe tbody tr th {\n",
       "        vertical-align: top;\n",
       "    }\n",
       "</style>\n",
       "<table border=\"1\" class=\"dataframe\">\n",
       "  <thead>\n",
       "    <tr style=\"text-align: right;\">\n",
       "      <th></th>\n",
       "      <th>0</th>\n",
       "      <th>1</th>\n",
       "      <th>2</th>\n",
       "      <th>3</th>\n",
       "      <th>4</th>\n",
       "      <th>5</th>\n",
       "      <th>6</th>\n",
       "      <th>7</th>\n",
       "      <th>8</th>\n",
       "      <th>9</th>\n",
       "    </tr>\n",
       "  </thead>\n",
       "  <tbody>\n",
       "    <tr>\n",
       "      <th>0</th>\n",
       "      <td>-1.828397</td>\n",
       "      <td>-1.551208</td>\n",
       "      <td>1.030455</td>\n",
       "      <td>-0.493989</td>\n",
       "      <td>1.628687</td>\n",
       "      <td>1.424152</td>\n",
       "      <td>-3.014684</td>\n",
       "      <td>0.463878</td>\n",
       "      <td>-0.269846</td>\n",
       "      <td>-0.109598</td>\n",
       "    </tr>\n",
       "    <tr>\n",
       "      <th>1</th>\n",
       "      <td>-0.170985</td>\n",
       "      <td>-0.675291</td>\n",
       "      <td>-0.087827</td>\n",
       "      <td>0.464066</td>\n",
       "      <td>0.639955</td>\n",
       "      <td>-3.344099</td>\n",
       "      <td>1.651852</td>\n",
       "      <td>1.431252</td>\n",
       "      <td>-2.609909</td>\n",
       "      <td>-0.058864</td>\n",
       "    </tr>\n",
       "    <tr>\n",
       "      <th>2</th>\n",
       "      <td>0.990933</td>\n",
       "      <td>-1.712415</td>\n",
       "      <td>3.347529</td>\n",
       "      <td>1.026874</td>\n",
       "      <td>-0.139412</td>\n",
       "      <td>2.131689</td>\n",
       "      <td>-3.128957</td>\n",
       "      <td>1.948702</td>\n",
       "      <td>2.113703</td>\n",
       "      <td>1.127601</td>\n",
       "    </tr>\n",
       "    <tr>\n",
       "      <th>3</th>\n",
       "      <td>0.915677</td>\n",
       "      <td>0.195137</td>\n",
       "      <td>0.724656</td>\n",
       "      <td>-1.517320</td>\n",
       "      <td>1.444158</td>\n",
       "      <td>2.260979</td>\n",
       "      <td>-1.208607</td>\n",
       "      <td>-1.728185</td>\n",
       "      <td>3.078588</td>\n",
       "      <td>-1.525104</td>\n",
       "    </tr>\n",
       "    <tr>\n",
       "      <th>4</th>\n",
       "      <td>-0.296437</td>\n",
       "      <td>-0.788160</td>\n",
       "      <td>0.478081</td>\n",
       "      <td>0.839312</td>\n",
       "      <td>-1.096644</td>\n",
       "      <td>-0.548417</td>\n",
       "      <td>-0.052803</td>\n",
       "      <td>1.216535</td>\n",
       "      <td>-1.460150</td>\n",
       "      <td>0.877716</td>\n",
       "    </tr>\n",
       "  </tbody>\n",
       "</table>\n",
       "</div>"
      ],
      "text/plain": [
       "          0         1         2         3         4         5         6  \\\n",
       "0 -1.828397 -1.551208  1.030455 -0.493989  1.628687  1.424152 -3.014684   \n",
       "1 -0.170985 -0.675291 -0.087827  0.464066  0.639955 -3.344099  1.651852   \n",
       "2  0.990933 -1.712415  3.347529  1.026874 -0.139412  2.131689 -3.128957   \n",
       "3  0.915677  0.195137  0.724656 -1.517320  1.444158  2.260979 -1.208607   \n",
       "4 -0.296437 -0.788160  0.478081  0.839312 -1.096644 -0.548417 -0.052803   \n",
       "\n",
       "          7         8         9  \n",
       "0  0.463878 -0.269846 -0.109598  \n",
       "1  1.431252 -2.609909 -0.058864  \n",
       "2  1.948702  2.113703  1.127601  \n",
       "3 -1.728185  3.078588 -1.525104  \n",
       "4  1.216535 -1.460150  0.877716  "
      ]
     },
     "execution_count": 1,
     "metadata": {},
     "output_type": "execute_result"
    }
   ],
   "source": [
    "from sklearn.datasets import make_classification\n",
    "import pandas as pd\n",
    "\n",
    "# Create a simulated feature matrix and output vector with 100 samples,\n",
    "features, output = make_classification(n_samples = 100,\n",
    "                                       # ten features\n",
    "                                       n_features = 10,\n",
    "                                       # five features that actually predict the output's classes\n",
    "                                       n_informative = 5,\n",
    "                                       # five features that are random and unrelated to the output's classes\n",
    "                                       n_redundant = 5,\n",
    "                                       # three output classes\n",
    "                                       n_classes = 3,\n",
    "                                       # with 20% of observations in the first class, 30% in the second class,\n",
    "                                       # and 50% in the third class. ('None' makes balanced classes)\n",
    "                                       weights = [.2, .3, .8])\n",
    "\n",
    "# View the first five observations and their 10 features\n",
    "pd.DataFrame(features).head()"
   ]
  },
  {
   "cell_type": "markdown",
   "metadata": {},
   "source": [
    "### Clustering"
   ]
  },
  {
   "cell_type": "code",
   "execution_count": 2,
   "metadata": {},
   "outputs": [
    {
     "data": {
      "image/png": "[encoded data removed]",
      "text/plain": [
       "<matplotlib.figure.Figure at 0x7f7ad1a90c50>"
      ]
     },
     "metadata": {},
     "output_type": "display_data"
    }
   ],
   "source": [
    "%matplotlib inline\n",
    "\n",
    "from sklearn.datasets import make_blobs\n",
    "import matplotlib.pyplot as plt\n",
    "\n",
    "# Make the features (X) and output (y) with 200 samples,\n",
    "X, y = make_blobs(n_samples = 200,\n",
    "                  # two feature variables,\n",
    "                  n_features = 2,\n",
    "                  # three clusters,\n",
    "                  centers = 3,\n",
    "                  # with .5 cluster standard deviation,\n",
    "                  cluster_std = 0.5,\n",
    "                  # shuffled,\n",
    "                  shuffle = True)\n",
    "\n",
    "# Create a scatterplot of the first and second features\n",
    "plt.scatter(X[:,0],\n",
    "            X[:,1])\n",
    "\n",
    "# Show the scatterplot\n",
    "plt.show()"
   ]
  },
  {
   "cell_type": "markdown",
   "metadata": {},
   "source": [
    "## Regression"
   ]
  },
  {
   "cell_type": "code",
   "execution_count": 9,
   "metadata": {},
   "outputs": [
    {
     "data": {
      "text/html": [
       "<div>\n",
       "<style>\n",
       "    .dataframe thead tr:only-child th {\n",
       "        text-align: right;\n",
       "    }\n",
       "\n",
       "    .dataframe thead th {\n",
       "        text-align: left;\n",
       "    }\n",
       "\n",
       "    .dataframe tbody tr th {\n",
       "        vertical-align: top;\n",
       "    }\n",
       "</style>\n",
       "<table border=\"1\" class=\"dataframe\">\n",
       "  <thead>\n",
       "    <tr style=\"text-align: right;\">\n",
       "      <th></th>\n",
       "      <th>Store 1</th>\n",
       "      <th>Store 2</th>\n",
       "      <th>Store 3</th>\n",
       "    </tr>\n",
       "  </thead>\n",
       "  <tbody>\n",
       "    <tr>\n",
       "      <th>0</th>\n",
       "      <td>0.896271</td>\n",
       "      <td>0.224377</td>\n",
       "      <td>-0.410444</td>\n",
       "    </tr>\n",
       "    <tr>\n",
       "      <th>1</th>\n",
       "      <td>-1.028687</td>\n",
       "      <td>0.826403</td>\n",
       "      <td>0.055937</td>\n",
       "    </tr>\n",
       "    <tr>\n",
       "      <th>2</th>\n",
       "      <td>-0.895129</td>\n",
       "      <td>1.045582</td>\n",
       "      <td>-1.880508</td>\n",
       "    </tr>\n",
       "    <tr>\n",
       "      <th>3</th>\n",
       "      <td>-0.388808</td>\n",
       "      <td>0.955211</td>\n",
       "      <td>-0.559884</td>\n",
       "    </tr>\n",
       "    <tr>\n",
       "      <th>4</th>\n",
       "      <td>-0.758190</td>\n",
       "      <td>0.027102</td>\n",
       "      <td>0.698640</td>\n",
       "    </tr>\n",
       "  </tbody>\n",
       "</table>\n",
       "</div>"
      ],
      "text/plain": [
       "    Store 1   Store 2   Store 3\n",
       "0  0.896271  0.224377 -0.410444\n",
       "1 -1.028687  0.826403  0.055937\n",
       "2 -0.895129  1.045582 -1.880508\n",
       "3 -0.388808  0.955211 -0.559884\n",
       "4 -0.758190  0.027102  0.698640"
      ]
     },
     "execution_count": 9,
     "metadata": {},
     "output_type": "execute_result"
    }
   ],
   "source": [
    "import pandas as pd\n",
    "from sklearn.datasets import make_regression\n",
    "\n",
    "# Generate fetures, outputs, and true coefficient of 100 samples,\n",
    "features, output, coef = make_regression(n_samples = 100,\n",
    "                                         # three features\n",
    "                                         n_features = 3,\n",
    "                                         # where only two features are useful,\n",
    "                                         n_informative = 2,\n",
    "                                         # a single target value per observation\n",
    "                                         n_targets = 1,\n",
    "                                         # 0.0 standard deviation of the guassian noise\n",
    "                                         noise = 0.0,\n",
    "                                         # show the true coefficient used to generated the data\n",
    "                                         coef = True)\n",
    "\n",
    "# View the features of the first five rows\n",
    "pd.DataFrame(features, columns=['Store 1', 'Store 2', 'Store 3']).head()\n"
   ]
  },
  {
   "cell_type": "code",
   "execution_count": null,
   "metadata": {
    "collapsed": true
   },
   "outputs": [],
   "source": []
  }
 ],
 "metadata": {
  "kernelspec": {
   "display_name": "Python 3",
   "language": "python",
   "name": "python3"
  },
  "language_info": {
   "codemirror_mode": {
    "name": "ipython",
    "version": 3
   },
   "file_extension": ".py",
   "mimetype": "text/x-python",
   "name": "python",
   "nbconvert_exporter": "python",
   "pygments_lexer": "ipython3",
   "version": "3.5.3"
  }
 },
 "nbformat": 4,
 "nbformat_minor": 2
}
