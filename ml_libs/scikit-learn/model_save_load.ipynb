{
 "cells": [
  {
   "cell_type": "markdown",
   "metadata": {},
   "source": [
    "### Reference\n",
    "\n",
    "https://chrisalbon.com/machine-learning/saving_machine_learning_models.html"
   ]
  },
  {
   "cell_type": "code",
   "execution_count": 1,
   "metadata": {},
   "outputs": [
    {
     "data": {
      "text/plain": [
       "LogisticRegression(C=1.0, class_weight=None, dual=False, fit_intercept=True,\n",
       "          intercept_scaling=1, max_iter=100, multi_class='ovr', n_jobs=1,\n",
       "          penalty='l2', random_state=0, solver='liblinear', tol=0.0001,\n",
       "          verbose=0, warm_start=False)"
      ]
     },
     "execution_count": 1,
     "metadata": {},
     "output_type": "execute_result"
    }
   ],
   "source": [
    "from sklearn.linear_model import LogisticRegression\n",
    "from sklearn import datasets\n",
    "import pickle\n",
    "\n",
    "iris = datasets.load_iris()\n",
    "X, y = iris.data, iris.target\n",
    "\n",
    "clf = LogisticRegression(random_state=0)\n",
    "clf.fit(X, y)  "
   ]
  },
  {
   "cell_type": "markdown",
   "metadata": {},
   "source": [
    "### Save Model using Pickle"
   ]
  },
  {
   "cell_type": "code",
   "execution_count": 3,
   "metadata": {},
   "outputs": [
    {
     "data": {
      "text/plain": [
       "b'\\x80\\x03csklearn.linear_model.logistic\\nLogisticRegression\\nq\\x00)\\x81q\\x01}q\\x02(X\\x0c\\x00\\x00\\x00class_weightq\\x03NX\\x06\\x00\\x00\\x00n_jobsq\\x04K\\x01X\\x01\\x00\\x00\\x00Cq\\x05G?\\xf0\\x00\\x00\\x00\\x00\\x00\\x00X\\x03\\x00\\x00\\x00tolq\\x06G?\\x1a6\\xe2\\xeb\\x1cC-X\\x0c\\x00\\x00\\x00random_stateq\\x07K\\x00X\\x0b\\x00\\x00\\x00multi_classq\\x08X\\x03\\x00\\x00\\x00ovrq\\tX\\n\\x00\\x00\\x00intercept_q\\ncnumpy.core.multiarray\\n_reconstruct\\nq\\x0bcnumpy\\nndarray\\nq\\x0cK\\x00\\x85q\\rC\\x01bq\\x0e\\x87q\\x0fRq\\x10(K\\x01K\\x03\\x85q\\x11cnumpy\\ndtype\\nq\\x12X\\x02\\x00\\x00\\x00f8q\\x13K\\x00K\\x01\\x87q\\x14Rq\\x15(K\\x03X\\x01\\x00\\x00\\x00<q\\x16NNNJ\\xff\\xff\\xff\\xffJ\\xff\\xff\\xff\\xffK\\x00tq\\x17b\\x89C\\x18\\xc9\\x86D\\x03\\xb1\\xff\\xd0?1\\xcd=I\\xe5]\\xf1?\\xac\\'\\xad\\x8dxo\\xf3\\xbfq\\x18tq\\x19bX\\x06\\x00\\x00\\x00solverq\\x1aX\\t\\x00\\x00\\x00liblinearq\\x1bX\\x07\\x00\\x00\\x00penaltyq\\x1cX\\x02\\x00\\x00\\x00l2q\\x1dX\\n\\x00\\x00\\x00warm_startq\\x1e\\x89X\\x04\\x00\\x00\\x00dualq\\x1f\\x89X\\x11\\x00\\x00\\x00intercept_scalingq K\\x01X\\x05\\x00\\x00\\x00coef_q!h\\x0bh\\x0cK\\x00\\x85q\"h\\x0e\\x87q#Rq$(K\\x01K\\x03K\\x04\\x86q%h\\x15\\x88C`\\x95\\x1c\\x904+\\x8f\\xda?\\'8\\xf6\\x7f9\\xaa\\xda?6VL\\xe5\\x05R\\xfb\\xbf\\xf9\\xad\\xd9^ya\\xf7?^\\x86\\x10B\\x03\\x9d\\xf9\\xbfY\\xa7x\\xf5\\\\\\x8c\\xf8\\xbf\\x8b$8y\\xdd\\x18\\x02\\xc0\\x9e\\x90\\xee\\xd9+|\\xe2?R\\x10\\xf2\\xcc\\x8c\\xc4\\x03@\\xda\\xb0;l,w\\xf0\\xbf\\x16_\\xe7W*+\\xf6\\xbf\\xe5T`-lq\\x04@q&tq\\'bX\\x08\\x00\\x00\\x00classes_q(h\\x0bh\\x0cK\\x00\\x85q)h\\x0e\\x87q*Rq+(K\\x01K\\x03\\x85q,h\\x12X\\x02\\x00\\x00\\x00i8q-K\\x00K\\x01\\x87q.Rq/(K\\x03h\\x16NNNJ\\xff\\xff\\xff\\xffJ\\xff\\xff\\xff\\xffK\\x00tq0b\\x89C\\x18\\x00\\x00\\x00\\x00\\x00\\x00\\x00\\x00\\x01\\x00\\x00\\x00\\x00\\x00\\x00\\x00\\x02\\x00\\x00\\x00\\x00\\x00\\x00\\x00q1tq2bX\\x10\\x00\\x00\\x00_sklearn_versionq3X\\x06\\x00\\x00\\x000.19.0q4X\\x07\\x00\\x00\\x00verboseq5K\\x00X\\r\\x00\\x00\\x00fit_interceptq6\\x88X\\x08\\x00\\x00\\x00max_iterq7KdX\\x07\\x00\\x00\\x00n_iter_q8h\\x0bh\\x0cK\\x00\\x85q9h\\x0e\\x87q:Rq;(K\\x01K\\x01\\x85q<h\\x12X\\x02\\x00\\x00\\x00i4q=K\\x00K\\x01\\x87q>Rq?(K\\x03h\\x16NNNJ\\xff\\xff\\xff\\xffJ\\xff\\xff\\xff\\xffK\\x00tq@b\\x89C\\x04\\x07\\x00\\x00\\x00qAtqBbub.'"
      ]
     },
     "execution_count": 3,
     "metadata": {},
     "output_type": "execute_result"
    }
   ],
   "source": [
    "saved_model = pickle.dumps(clf)\n",
    "saved_model"
   ]
  },
  {
   "cell_type": "markdown",
   "metadata": {},
   "source": [
    "### Load Model from Pickle"
   ]
  },
  {
   "cell_type": "code",
   "execution_count": 4,
   "metadata": {},
   "outputs": [
    {
     "data": {
      "text/plain": [
       "array([0, 0, 0, 0, 0, 0, 0, 0, 0, 0, 0, 0, 0, 0, 0, 0, 0, 0, 0, 0, 0, 0, 0,\n",
       "       0, 0, 0, 0, 0, 0, 0, 0, 0, 0, 0, 0, 0, 0, 0, 0, 0, 0, 0, 0, 0, 0, 0,\n",
       "       0, 0, 0, 0, 1, 1, 1, 1, 1, 1, 1, 1, 1, 1, 1, 1, 1, 1, 1, 1, 2, 1, 1,\n",
       "       1, 2, 1, 1, 1, 1, 1, 1, 1, 1, 1, 1, 1, 1, 2, 2, 2, 1, 1, 1, 1, 1, 1,\n",
       "       1, 1, 1, 1, 1, 1, 1, 1, 2, 2, 2, 2, 2, 2, 2, 2, 2, 2, 2, 2, 2, 2, 2,\n",
       "       2, 2, 2, 2, 2, 2, 2, 2, 2, 2, 2, 2, 2, 2, 1, 2, 2, 2, 2, 2, 2, 2, 2,\n",
       "       2, 2, 2, 2, 2, 2, 2, 2, 2, 2, 2, 2])"
      ]
     },
     "execution_count": 4,
     "metadata": {},
     "output_type": "execute_result"
    }
   ],
   "source": [
    "clf_from_pickle = pickle.loads(saved_model)\n",
    "\n",
    "clf_from_pickle.predict(X)"
   ]
  },
  {
   "cell_type": "code",
   "execution_count": null,
   "metadata": {
    "collapsed": true
   },
   "outputs": [],
   "source": []
  }
 ],
 "metadata": {
  "kernelspec": {
   "display_name": "Python 3",
   "language": "python",
   "name": "python3"
  },
  "language_info": {
   "codemirror_mode": {
    "name": "ipython",
    "version": 3
   },
   "file_extension": ".py",
   "mimetype": "text/x-python",
   "name": "python",
   "nbconvert_exporter": "python",
   "pygments_lexer": "ipython3",
   "version": "3.5.3"
  }
 },
 "nbformat": 4,
 "nbformat_minor": 2
}
