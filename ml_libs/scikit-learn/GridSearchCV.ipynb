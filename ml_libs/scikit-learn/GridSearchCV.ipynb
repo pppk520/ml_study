{
 "cells": [
  {
   "cell_type": "markdown",
   "metadata": {},
   "source": [
    "### To find best hyperparamter combinations."
   ]
  },
  {
   "cell_type": "code",
   "execution_count": 15,
   "metadata": {
    "collapsed": true
   },
   "outputs": [],
   "source": [
    "from sklearn.model_selection import GridSearchCV\n",
    "from sklearn.ensemble import RandomForestClassifier\n",
    "from sklearn.datasets import load_iris\n",
    "import numpy as np"
   ]
  },
  {
   "cell_type": "code",
   "execution_count": 6,
   "metadata": {
    "collapsed": true
   },
   "outputs": [],
   "source": [
    "iris = load_iris()\n",
    "\n",
    "X = iris.data\n",
    "y = iris.target"
   ]
  },
  {
   "cell_type": "code",
   "execution_count": 17,
   "metadata": {},
   "outputs": [
    {
     "data": {
      "text/plain": [
       "GridSearchCV(cv=5, error_score='raise',\n",
       "       estimator=RandomForestClassifier(bootstrap=True, class_weight=None, criterion='gini',\n",
       "            max_depth=None, max_features='auto', max_leaf_nodes=None,\n",
       "            min_impurity_decrease=0.0, min_impurity_split=None,\n",
       "            min_samples_leaf=1, min_samples_split=2,\n",
       "            min_weight_fraction_leaf=0.0, n_estimators=10, n_jobs=1,\n",
       "            oob_score=False, random_state=None, verbose=0,\n",
       "            warm_start=False),\n",
       "       fit_params=None, iid=True, n_jobs=1,\n",
       "       param_grid=[{'max_features': [1, 2, 3], 'n_estimators': [3, 10, 30]}, {'max_features': [1, 2, 3], 'bootstrap': [False], 'n_estimators': [3, 10]}],\n",
       "       pre_dispatch='2*n_jobs', refit=True, return_train_score=True,\n",
       "       scoring='neg_mean_squared_error', verbose=0)"
      ]
     },
     "execution_count": 17,
     "metadata": {},
     "output_type": "execute_result"
    }
   ],
   "source": [
    "param_grid = [\n",
    "    {\n",
    "        'n_estimators': [3, 10, 30], \n",
    "        'max_features': [1, 2, 3]\n",
    "    },\n",
    "    {\n",
    "        'bootstrap': [False], \n",
    "        'n_estimators': [3, 10], \n",
    "        'max_features': [1, 2, 3]\n",
    "    },\n",
    "  ]\n",
    "\n",
    "forest_reg = RandomForestClassifier()\n",
    "\n",
    "grid_search = GridSearchCV(forest_reg, \n",
    "                           param_grid, \n",
    "                           cv=5, # integer, to specify the number of folds in a (Stratified)KFold,\n",
    "                           scoring='neg_mean_squared_error')\n",
    "\n",
    "grid_search.fit(X, y)"
   ]
  },
  {
   "cell_type": "code",
   "execution_count": 18,
   "metadata": {},
   "outputs": [
    {
     "data": {
      "text/plain": [
       "{'bootstrap': False, 'max_features': 2, 'n_estimators': 3}"
      ]
     },
     "execution_count": 18,
     "metadata": {},
     "output_type": "execute_result"
    }
   ],
   "source": [
    "grid_search.best_params_"
   ]
  },
  {
   "cell_type": "code",
   "execution_count": 19,
   "metadata": {},
   "outputs": [
    {
     "data": {
      "text/plain": [
       "RandomForestClassifier(bootstrap=False, class_weight=None, criterion='gini',\n",
       "            max_depth=None, max_features=2, max_leaf_nodes=None,\n",
       "            min_impurity_decrease=0.0, min_impurity_split=None,\n",
       "            min_samples_leaf=1, min_samples_split=2,\n",
       "            min_weight_fraction_leaf=0.0, n_estimators=3, n_jobs=1,\n",
       "            oob_score=False, random_state=None, verbose=0,\n",
       "            warm_start=False)"
      ]
     },
     "execution_count": 19,
     "metadata": {},
     "output_type": "execute_result"
    }
   ],
   "source": [
    "grid_search.best_estimator_"
   ]
  },
  {
   "cell_type": "code",
   "execution_count": 20,
   "metadata": {},
   "outputs": [
    {
     "name": "stdout",
     "output_type": "stream",
     "text": [
      "0.230940107676 {'max_features': 1, 'n_estimators': 3}\n",
      "0.244948974278 {'max_features': 1, 'n_estimators': 10}\n",
      "0.216024689947 {'max_features': 1, 'n_estimators': 30}\n",
      "0.244948974278 {'max_features': 2, 'n_estimators': 3}\n",
      "0.216024689947 {'max_features': 2, 'n_estimators': 10}\n",
      "0.216024689947 {'max_features': 2, 'n_estimators': 30}\n",
      "0.2 {'max_features': 3, 'n_estimators': 3}\n",
      "0.2 {'max_features': 3, 'n_estimators': 10}\n",
      "0.216024689947 {'max_features': 3, 'n_estimators': 30}\n",
      "0.270801280155 {'max_features': 1, 'bootstrap': False, 'n_estimators': 3}\n",
      "0.216024689947 {'max_features': 1, 'bootstrap': False, 'n_estimators': 10}\n",
      "0.182574185835 {'max_features': 2, 'bootstrap': False, 'n_estimators': 3}\n",
      "0.2 {'max_features': 2, 'bootstrap': False, 'n_estimators': 10}\n",
      "0.182574185835 {'max_features': 3, 'bootstrap': False, 'n_estimators': 3}\n",
      "0.2 {'max_features': 3, 'bootstrap': False, 'n_estimators': 10}\n"
     ]
    }
   ],
   "source": [
    "cvres = grid_search.cv_results_\n",
    "\n",
    "for mean_score, params in zip(cvres[\"mean_test_score\"], cvres[\"params\"]):\n",
    "    print(np.sqrt(-mean_score), params)"
   ]
  },
  {
   "cell_type": "code",
   "execution_count": null,
   "metadata": {
    "collapsed": true
   },
   "outputs": [],
   "source": []
  }
 ],
 "metadata": {
  "kernelspec": {
   "display_name": "Python 3",
   "language": "python",
   "name": "python3"
  },
  "language_info": {
   "codemirror_mode": {
    "name": "ipython",
    "version": 3
   },
   "file_extension": ".py",
   "mimetype": "text/x-python",
   "name": "python",
   "nbconvert_exporter": "python",
   "pygments_lexer": "ipython3",
   "version": "3.5.3"
  }
 },
 "nbformat": 4,
 "nbformat_minor": 2
}
